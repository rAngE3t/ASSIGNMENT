{
 "cells": [
  {
   "cell_type": "code",
   "execution_count": null,
   "id": "261c40c6",
   "metadata": {},
   "outputs": [],
   "source": [
    "#Define a function which will return Max of three numbers"
   ]
  },
  {
   "cell_type": "code",
   "execution_count": 11,
   "id": "ebed02a8",
   "metadata": {},
   "outputs": [],
   "source": [
    "def maxi(*a):\n",
    "    return max(*a)"
   ]
  },
  {
   "cell_type": "code",
   "execution_count": 12,
   "id": "be49fafa",
   "metadata": {},
   "outputs": [
    {
     "data": {
      "text/plain": [
       "91"
      ]
     },
     "execution_count": 12,
     "metadata": {},
     "output_type": "execute_result"
    }
   ],
   "source": [
    "maxy(10,7,77,91)"
   ]
  },
  {
   "cell_type": "code",
   "execution_count": null,
   "id": "7e9fc480",
   "metadata": {},
   "outputs": [],
   "source": [
    "#Define a Python Function to reverse a string."
   ]
  },
  {
   "cell_type": "code",
   "execution_count": 13,
   "id": "4657639d",
   "metadata": {},
   "outputs": [],
   "source": [
    "def reverse(s):\n",
    "    rev=s[::-1]\n",
    "    return rev"
   ]
  },
  {
   "cell_type": "code",
   "execution_count": 14,
   "id": "5c9727e3",
   "metadata": {},
   "outputs": [
    {
     "data": {
      "text/plain": [
       "'enilanerda'"
      ]
     },
     "execution_count": 14,
     "metadata": {},
     "output_type": "execute_result"
    }
   ],
   "source": [
    "reverse(\"adrenaline\")"
   ]
  },
  {
   "cell_type": "code",
   "execution_count": null,
   "id": "c42b270f",
   "metadata": {},
   "outputs": [],
   "source": [
    "#Write a Python program to define a function that accepts 2 \n",
    "#values and return its sum, subtraction and multiplication."
   ]
  },
  {
   "cell_type": "code",
   "execution_count": 19,
   "id": "be3e1e68",
   "metadata": {},
   "outputs": [],
   "source": [
    "def cal(x,y):\n",
    "    return print(\" sum is {}\\n sub is {}\\n mul is {}\".format(x+y,x-y,x*y))\n",
    "    "
   ]
  },
  {
   "cell_type": "code",
   "execution_count": 21,
   "id": "9bc87f9a",
   "metadata": {},
   "outputs": [
    {
     "name": "stdout",
     "output_type": "stream",
     "text": [
      " sum is 99.99\n",
      " sub is 33.33\n",
      " mul is 2221.7778\n"
     ]
    }
   ],
   "source": [
    "cal(66.66,33.33)"
   ]
  },
  {
   "cell_type": "code",
   "execution_count": null,
   "id": "86f0eb1c",
   "metadata": {},
   "outputs": [],
   "source": [
    "#Define a function that accepts roll number and returns whether \n",
    "#the student is present or absent."
   ]
  },
  {
   "cell_type": "code",
   "execution_count": 74,
   "id": "3acd1941",
   "metadata": {},
   "outputs": [],
   "source": [
    "def Attendence(x):\n",
    "    present=[1,2,3,4,5,7,9,12,13,16,17,18,37,40]\n",
    "    if x in present:\n",
    "        return \"Student is present\"\n",
    "    else:\n",
    "        return \"Student is Absent\""
   ]
  },
  {
   "cell_type": "code",
   "execution_count": 76,
   "id": "a36e05ea",
   "metadata": {},
   "outputs": [
    {
     "data": {
      "text/plain": [
       "'Student is Absent'"
      ]
     },
     "execution_count": 76,
     "metadata": {},
     "output_type": "execute_result"
    }
   ],
   "source": [
    "Attendence(6)"
   ]
  },
  {
   "cell_type": "code",
   "execution_count": 49,
   "id": "9d106e7d",
   "metadata": {},
   "outputs": [],
   "source": [
    "#Define a function in python that accepts n values and returns \n",
    "#the maximum of n numbers\n"
   ]
  },
  {
   "cell_type": "code",
   "execution_count": 82,
   "id": "63c346af",
   "metadata": {},
   "outputs": [],
   "source": [
    "def large(*num):\n",
    "    return \"maximum of numbers is {}\".format(max(num))"
   ]
  },
  {
   "cell_type": "code",
   "execution_count": 83,
   "id": "1a581881",
   "metadata": {},
   "outputs": [
    {
     "data": {
      "text/plain": [
       "'maximum of numbers is 108'"
      ]
     },
     "execution_count": 83,
     "metadata": {},
     "output_type": "execute_result"
    }
   ],
   "source": [
    "large(10,108,99.99)"
   ]
  },
  {
   "cell_type": "code",
   "execution_count": null,
   "id": "f4a99f97",
   "metadata": {},
   "outputs": [],
   "source": [
    "#Define a function which counts vowels and consonant in a word."
   ]
  },
  {
   "cell_type": "code",
   "execution_count": 88,
   "id": "87c047e9",
   "metadata": {},
   "outputs": [],
   "source": [
    "def count(word):\n",
    "    vowel=0\n",
    "    consonant=0\n",
    "    for w in word:\n",
    "        if w==\"a\" or w==\"A\" or w==\"e\" or w==\"E\" or w==\"i\" or w==\"I\" or w==\"o\" or w==\"O\" or w==\"u\" or w==\"U\":\n",
    "            vowel+=1\n",
    "        else:\n",
    "            consonant+=1\n",
    "    print(\"vowels:\",vowel)\n",
    "    print(\"consonants:\",consonant)"
   ]
  },
  {
   "cell_type": "code",
   "execution_count": 90,
   "id": "66ade76c",
   "metadata": {},
   "outputs": [
    {
     "name": "stdout",
     "output_type": "stream",
     "text": [
      "vowels: 4\n",
      "consonants: 4\n"
     ]
    }
   ],
   "source": [
    "count(\"dopamine\")"
   ]
  },
  {
   "cell_type": "code",
   "execution_count": null,
   "id": "287a68e4",
   "metadata": {},
   "outputs": [],
   "source": [
    "#Define a function that returns Factorial of a number"
   ]
  },
  {
   "cell_type": "code",
   "execution_count": 102,
   "id": "e8e7e5f1",
   "metadata": {},
   "outputs": [],
   "source": [
    "def factorial(num):\n",
    "    f=1\n",
    "    for num in range(1,num+1):\n",
    "        f*=num\n",
    "    return f"
   ]
  },
  {
   "cell_type": "code",
   "execution_count": 103,
   "id": "ea015a7a",
   "metadata": {},
   "outputs": [
    {
     "data": {
      "text/plain": [
       "362880"
      ]
     },
     "execution_count": 103,
     "metadata": {},
     "output_type": "execute_result"
    }
   ],
   "source": [
    "factorial(9)"
   ]
  },
  {
   "cell_type": "code",
   "execution_count": null,
   "id": "c508da4d",
   "metadata": {},
   "outputs": [],
   "source": [
    "#Define a function that accepts radius and returns the area of\n",
    "#a circle."
   ]
  },
  {
   "cell_type": "code",
   "execution_count": 104,
   "id": "308e15bf",
   "metadata": {},
   "outputs": [],
   "source": [
    "def area(r):\n",
    "    print(\"area of circle is:\",(22/7)*r**2)"
   ]
  },
  {
   "cell_type": "code",
   "execution_count": 105,
   "id": "367541b0",
   "metadata": {},
   "outputs": [
    {
     "name": "stdout",
     "output_type": "stream",
     "text": [
      "area of circle is: 78.57142857142857\n"
     ]
    }
   ],
   "source": [
    "area(5)"
   ]
  },
  {
   "cell_type": "code",
   "execution_count": null,
   "id": "089ac642",
   "metadata": {},
   "outputs": [],
   "source": [
    "#Define a function that takes a number as a parameter and check\n",
    "#the number is prime or not."
   ]
  },
  {
   "cell_type": "code",
   "execution_count": 116,
   "id": "45976f50",
   "metadata": {},
   "outputs": [],
   "source": [
    "def Prime(n):\n",
    "    if n>1:\n",
    "        for m in range(2,n):\n",
    "            if n%m==0:\n",
    "                return \"Number is not Prime\"\n",
    "            else:\n",
    "                return \"Number is Prime\""
   ]
  },
  {
   "cell_type": "code",
   "execution_count": 120,
   "id": "5b3b3d81",
   "metadata": {},
   "outputs": [
    {
     "data": {
      "text/plain": [
       "'Number is not Prime'"
      ]
     },
     "execution_count": 120,
     "metadata": {},
     "output_type": "execute_result"
    }
   ],
   "source": [
    "Prime(70)"
   ]
  },
  {
   "cell_type": "code",
   "execution_count": 119,
   "id": "4fbd0358",
   "metadata": {},
   "outputs": [
    {
     "data": {
      "text/plain": [
       "'Number is Prime'"
      ]
     },
     "execution_count": 119,
     "metadata": {},
     "output_type": "execute_result"
    }
   ],
   "source": [
    "Prime(17)"
   ]
  },
  {
   "cell_type": "code",
   "execution_count": null,
   "id": "f9983629",
   "metadata": {},
   "outputs": [],
   "source": [
    "#Mary wants to run a 25-mile marathon. When she attempts \n",
    "#to sign up for the marathon, she notices the sign-up \n",
    "#sheet doesn't directly state the marathon's length. \n",
    "#Instead, the marathon's length is listed in small, \n",
    "#different portions. Help Mary find out how long the\n",
    "#marathon actually is. So create a function that \n",
    "#So create a function that\n",
    "#** Return True if the marathon is 25 miles long, otherwise, return\n",
    "#False.\n",
    "#Examples :-\n",
    "#marathon_distance([1, 2, 3, 4]) ➞ False\n",
    "#marathon_distance([1, 9, 5, 8, 2]) ➞ True\n",
    "#marathon_distance([-6, 15, 4]) ➞ True\n",
    "#Notes Items in the list will always be integers\n",
    "# Items in the list may be negative or positive, but since negative\n",
    "#distance isn't possible, find a way to convert negative integers into positive integers"
   ]
  },
  {
   "cell_type": "code",
   "execution_count": null,
   "id": "2b271df7",
   "metadata": {},
   "outputs": [],
   "source": [
    "\n"
   ]
  },
  {
   "cell_type": "code",
   "execution_count": 11,
   "id": "f5468565",
   "metadata": {},
   "outputs": [
    {
     "data": {
      "text/plain": [
       "False"
      ]
     },
     "execution_count": 11,
     "metadata": {},
     "output_type": "execute_result"
    }
   ],
   "source": [
    "\n",
    "marathon_distance([])"
   ]
  },
  {
   "cell_type": "code",
   "execution_count": null,
   "id": "fb9bfbf6",
   "metadata": {},
   "outputs": [],
   "source": [
    "#Create a function that takes a number and returns True \n",
    "#if the number is automorphic ,false if it is not.@"
   ]
  },
  {
   "cell_type": "code",
   "execution_count": 15,
   "id": "47fd4d16",
   "metadata": {},
   "outputs": [],
   "source": [
    "def isautomorphic(n):\n",
    "    a=n**2\n",
    "    b=str(a)\n",
    "    if int(b[-1])==n:\n",
    "        return (\"{} is automorphic \".format(n))\n",
    "\n",
    "    else:\n",
    "        return False\n"
   ]
  },
  {
   "cell_type": "code",
   "execution_count": 16,
   "id": "29b66b91",
   "metadata": {},
   "outputs": [
    {
     "data": {
      "text/plain": [
       "'6 is automorphic '"
      ]
     },
     "execution_count": 16,
     "metadata": {},
     "output_type": "execute_result"
    }
   ],
   "source": [
    "isautomorphic(6)"
   ]
  },
  {
   "cell_type": "code",
   "execution_count": null,
   "id": "daca9ce8",
   "metadata": {},
   "outputs": [],
   "source": [
    "#Create a function, that will take given a, b, c, and do \n",
    "#the following: Add a to itself b times and Check if the \n",
    "#result is divisible by c. and return true if it is \n",
    "#divisible by c or false"
   ]
  },
  {
   "cell_type": "code",
   "execution_count": 17,
   "id": "1b72b6dc",
   "metadata": {},
   "outputs": [],
   "source": [
    "def marathon_len(x):\n",
    "    length=0\n",
    "    for i in x:\n",
    "        length=length+abs(i)\n",
    "    if length==25:\n",
    "        return True\n",
    "    else:\n",
    "        return False"
   ]
  },
  {
   "cell_type": "code",
   "execution_count": 19,
   "id": "fc1e0c19",
   "metadata": {},
   "outputs": [
    {
     "data": {
      "text/plain": [
       "True"
      ]
     },
     "execution_count": 19,
     "metadata": {},
     "output_type": "execute_result"
    }
   ],
   "source": [
    "marathon_len([25])"
   ]
  },
  {
   "cell_type": "code",
   "execution_count": null,
   "id": "d72379b8",
   "metadata": {},
   "outputs": [],
   "source": [
    "#Create a function that changes specific words into \n",
    "#emoticons. Given a sentence as a string, replace the \n",
    "#words smile, grin, sad and mad with their corresponding \n",
    "#emoticons."
   ]
  },
  {
   "cell_type": "code",
   "execution_count": 24,
   "id": "a73c7502",
   "metadata": {},
   "outputs": [],
   "source": [
    "def TorF(a,b,c):\n",
    "    total=0\n",
    "    for i in range(b):\n",
    "        total=a+total\n",
    "    if total%c==0:\n",
    "        return True\n",
    "    else:\n",
    "        return False"
   ]
  },
  {
   "cell_type": "code",
   "execution_count": 25,
   "id": "8fcd6972",
   "metadata": {},
   "outputs": [
    {
     "data": {
      "text/plain": [
       "True"
      ]
     },
     "execution_count": 25,
     "metadata": {},
     "output_type": "execute_result"
    }
   ],
   "source": [
    "TorF(1,3,3)"
   ]
  },
  {
   "cell_type": "code",
   "execution_count": null,
   "id": "3d20f715",
   "metadata": {},
   "outputs": [],
   "source": [
    "#Create a function that changes specific words into emoticons. Given a sentence as a string, replace the words smile, grin, sad and mad with their corresponding emoticons.\n",
    "#word emoticon\n",
    "#smile :D\n",
    "#grin :)\n",
    "#sad :(\n",
    "#mad :P\n",
    "#Examples:\n",
    "#functionname(\"Make me smile\") ➞ \"Make me :D\"\n",
    "#functionname (\"Make me grin\") ➞ \"Make me :)\"\n",
    "#functionname (\"Make me sad\") ➞ \"Make me :(\"\n"
   ]
  },
  {
   "cell_type": "code",
   "execution_count": 44,
   "id": "80764003",
   "metadata": {},
   "outputs": [],
   "source": [
    "def emoticon(x):\n",
    "    s=x.split()\n",
    "    for y in range(len(s)):\n",
    "        if s[y]==\"smile\":\n",
    "            s[y]=\":D\"\n",
    "        elif s[y]==\"grin\":\n",
    "            s[y]=\":)\"\n",
    "        elif s[y]==\"sad\":\n",
    "            s[y]=\":(\"\n",
    "        elif s[y]==\"mad\":\n",
    "            s[y]=\":p\"\n",
    "    return \" \".join(s)"
   ]
  },
  {
   "cell_type": "code",
   "execution_count": 43,
   "id": "eccbb808",
   "metadata": {},
   "outputs": [
    {
     "data": {
      "text/plain": [
       "'i am :('"
      ]
     },
     "execution_count": 43,
     "metadata": {},
     "output_type": "execute_result"
    }
   ],
   "source": [
    "emoticon(\"i am sad\")"
   ]
  },
  {
   "cell_type": "code",
   "execution_count": null,
   "id": "9bf5e7a1",
   "metadata": {},
   "outputs": [],
   "source": [
    "#Write a python program to square and cube every number\n",
    "#in a given list of integers using lambda"
   ]
  },
  {
   "cell_type": "code",
   "execution_count": 45,
   "id": "d73ed1eb",
   "metadata": {},
   "outputs": [
    {
     "name": "stdout",
     "output_type": "stream",
     "text": [
      "[4, 9, 16, 25, 36] [8, 27, 64, 125, 216]\n"
     ]
    }
   ],
   "source": [
    "o=[2,3,4,5,6]\n",
    "m=list(map(lambda x:x**2,o))\n",
    "n=list(map(lambda x:x**3,o))\n",
    "print(m,n)\n"
   ]
  },
  {
   "cell_type": "code",
   "execution_count": null,
   "id": "59a8c26a",
   "metadata": {},
   "outputs": [],
   "source": [
    "#Write a python program to check wheather a given string\n",
    "#is number or not using lambda"
   ]
  },
  {
   "cell_type": "code",
   "execution_count": 61,
   "id": "7829be88",
   "metadata": {},
   "outputs": [],
   "source": [
    "_abc=lambda s:s.isalpha()"
   ]
  },
  {
   "cell_type": "code",
   "execution_count": 62,
   "id": "6908eb99",
   "metadata": {},
   "outputs": [
    {
     "data": {
      "text/plain": [
       "True"
      ]
     },
     "execution_count": 62,
     "metadata": {},
     "output_type": "execute_result"
    }
   ],
   "source": [
    "_abc(\"jask\")"
   ]
  },
  {
   "cell_type": "code",
   "execution_count": 63,
   "id": "1c461bc4",
   "metadata": {},
   "outputs": [
    {
     "data": {
      "text/plain": [
       "False"
      ]
     },
     "execution_count": 63,
     "metadata": {},
     "output_type": "execute_result"
    }
   ],
   "source": [
    "_abc(\"9\")"
   ]
  },
  {
   "cell_type": "code",
   "execution_count": 64,
   "id": "053a57f2",
   "metadata": {},
   "outputs": [],
   "source": [
    "_123=lambda s:s.isdigit() "
   ]
  },
  {
   "cell_type": "code",
   "execution_count": 65,
   "id": "f6128ee0",
   "metadata": {},
   "outputs": [
    {
     "data": {
      "text/plain": [
       "True"
      ]
     },
     "execution_count": 65,
     "metadata": {},
     "output_type": "execute_result"
    }
   ],
   "source": [
    "_123(\"9\")"
   ]
  },
  {
   "cell_type": "code",
   "execution_count": 66,
   "id": "dedb804a",
   "metadata": {},
   "outputs": [
    {
     "data": {
      "text/plain": [
       "False"
      ]
     },
     "execution_count": 66,
     "metadata": {},
     "output_type": "execute_result"
    }
   ],
   "source": [
    "_123(\"jask\")"
   ]
  },
  {
   "cell_type": "code",
   "execution_count": null,
   "id": "e8c5953a",
   "metadata": {},
   "outputs": [],
   "source": []
  }
 ],
 "metadata": {
  "kernelspec": {
   "display_name": "Python 3 (ipykernel)",
   "language": "python",
   "name": "python3"
  },
  "language_info": {
   "codemirror_mode": {
    "name": "ipython",
    "version": 3
   },
   "file_extension": ".py",
   "mimetype": "text/x-python",
   "name": "python",
   "nbconvert_exporter": "python",
   "pygments_lexer": "ipython3",
   "version": "3.9.13"
  }
 },
 "nbformat": 4,
 "nbformat_minor": 5
}
