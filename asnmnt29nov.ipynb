{
 "cells": [
  {
   "cell_type": "code",
   "execution_count": null,
   "id": "7f7bb4f7",
   "metadata": {},
   "outputs": [],
   "source": [
    "#wapp accept two numbers and calculatew mul and div"
   ]
  },
  {
   "cell_type": "code",
   "execution_count": 14,
   "id": "430d1252",
   "metadata": {},
   "outputs": [],
   "source": [
    "def cal(x,y):\n",
    "    print(\"multiplication:\",x*y,\"\\n division:\",x/y)"
   ]
  },
  {
   "cell_type": "code",
   "execution_count": 15,
   "id": "3d1bb8b1",
   "metadata": {},
   "outputs": [
    {
     "name": "stdout",
     "output_type": "stream",
     "text": [
      "multiplication: 25 \n",
      " division: 1.0\n"
     ]
    }
   ],
   "source": [
    "cal(5,5)"
   ]
  },
  {
   "cell_type": "code",
   "execution_count": null,
   "id": "6997c059",
   "metadata": {},
   "outputs": [],
   "source": [
    "#wapp print the characters from a string that are present at an even index"
   ]
  },
  {
   "cell_type": "code",
   "execution_count": 38,
   "id": "b517c35e",
   "metadata": {},
   "outputs": [
    {
     "name": "stdout",
     "output_type": "stream",
     "text": [
      "hello there\n",
      " hlotee\n"
     ]
    }
   ],
   "source": [
    "str1=input()\n",
    "str2=\" \"\n",
    "for i in range(0,len(str1)):\n",
    "    if i%2==0:\n",
    "        str2+=str1[i]\n",
    "print(str2)"
   ]
  },
  {
   "cell_type": "code",
   "execution_count": null,
   "id": "e707447c",
   "metadata": {},
   "outputs": [],
   "source": [
    "#wapp which print char in odd index"
   ]
  },
  {
   "cell_type": "code",
   "execution_count": 39,
   "id": "c8d017d6",
   "metadata": {},
   "outputs": [
    {
     "name": "stdout",
     "output_type": "stream",
     "text": [
      "['e', 'l', ' ', 'h', 'r']\n"
     ]
    }
   ],
   "source": [
    "str3=\"hello there\"\n",
    "str4=[]\n",
    "for a in range(len(str3)):\n",
    "    if a%2!=0:\n",
    "        str4.append(str1[a])\n",
    "print(str4)"
   ]
  },
  {
   "cell_type": "code",
   "execution_count": null,
   "id": "d3972f93",
   "metadata": {},
   "outputs": [],
   "source": [
    "#wapp which prints sum of two number if both even else prints the difference"
   ]
  },
  {
   "cell_type": "code",
   "execution_count": 53,
   "id": "b6824fc7",
   "metadata": {},
   "outputs": [
    {
     "name": "stdout",
     "output_type": "stream",
     "text": [
      "1st num-10\n",
      "2nd num-15\n",
      "difference is- -5\n"
     ]
    }
   ],
   "source": [
    "a=int(input(\"1st num-\"))\n",
    "b=int(input(\"2nd num-\"))\n",
    "if a and b %2==0:\n",
    "    x=lambda a,b:a+b\n",
    "    print(\"sum is-\",x(a,b))\n",
    "else:\n",
    "    x=lambda a,b:a-b\n",
    "    print(\"difference is-\",x(a,b))"
   ]
  },
  {
   "cell_type": "code",
   "execution_count": null,
   "id": "b8d869c5",
   "metadata": {},
   "outputs": [],
   "source": [
    "#wapp to convert even indexed to upper case and odd indexed to lower case"
   ]
  },
  {
   "cell_type": "code",
   "execution_count": 49,
   "id": "ee96166f",
   "metadata": {},
   "outputs": [
    {
     "name": "stdout",
     "output_type": "stream",
     "text": [
      " PrOgRaMmInG\n"
     ]
    }
   ],
   "source": [
    "y=\"programming\"\n",
    "z=\" \"\n",
    "for a in range(len(y)):\n",
    "    if a%2==0:\n",
    "        z=z+y[a].upper()\n",
    "    else:\n",
    "        z=z+y[a].lower()\n",
    "print(z)"
   ]
  },
  {
   "cell_type": "code",
   "execution_count": null,
   "id": "69768cd7",
   "metadata": {},
   "outputs": [],
   "source": [
    "#wapp to find if number is divisible by 5 or else return false"
   ]
  },
  {
   "cell_type": "code",
   "execution_count": 56,
   "id": "9ccee680",
   "metadata": {},
   "outputs": [],
   "source": [
    "def find5(num):\n",
    "    return True if num % 5 == 0 else False"
   ]
  },
  {
   "cell_type": "code",
   "execution_count": 57,
   "id": "c05671bd",
   "metadata": {},
   "outputs": [
    {
     "data": {
      "text/plain": [
       "True"
      ]
     },
     "execution_count": 57,
     "metadata": {},
     "output_type": "execute_result"
    }
   ],
   "source": [
    "find5(25)"
   ]
  },
  {
   "cell_type": "code",
   "execution_count": 58,
   "id": "258e32a5",
   "metadata": {},
   "outputs": [
    {
     "data": {
      "text/plain": [
       "False"
      ]
     },
     "execution_count": 58,
     "metadata": {},
     "output_type": "execute_result"
    }
   ],
   "source": [
    "find5(21)"
   ]
  },
  {
   "cell_type": "code",
   "execution_count": null,
   "id": "ce201b4c",
   "metadata": {},
   "outputs": [],
   "source": [
    "#Given two numbers,return their product if greater than 1000 else return their sum"
   ]
  },
  {
   "cell_type": "code",
   "execution_count": 63,
   "id": "fc626888",
   "metadata": {},
   "outputs": [
    {
     "name": "stdout",
     "output_type": "stream",
     "text": [
      "1st num:200\n",
      "2nd num:250\n"
     ]
    },
    {
     "data": {
      "text/plain": [
       "'200x250=50000'"
      ]
     },
     "execution_count": 63,
     "metadata": {},
     "output_type": "execute_result"
    }
   ],
   "source": [
    "num1=int(input(\"1st num:\"))\n",
    "num2=int(input(\"2nd num:\"))\n",
    "def cal(num1,num2):\n",
    "    if num1*num2 > 1000:\n",
    "        return \"{}x{}={}\".format(num1,num2,num1*num2)\n",
    "    else:\n",
    "        return \"{}+{}={}\".format(num1,num2,num1+num2)\n",
    "cal(num1,num2)"
   ]
  },
  {
   "cell_type": "code",
   "execution_count": null,
   "id": "0bbcb8c1",
   "metadata": {},
   "outputs": [],
   "source": [
    "#Given two strings x,y write a prog to return a new string made of 1st,middle and last chars \n",
    "#of both the strings"
   ]
  },
  {
   "cell_type": "code",
   "execution_count": 66,
   "id": "52a06b42",
   "metadata": {},
   "outputs": [
    {
     "name": "stdout",
     "output_type": "stream",
     "text": [
      "enter-pytho\n",
      "enter-javas\n"
     ]
    },
    {
     "data": {
      "text/plain": [
       "'pjtvos'"
      ]
     },
     "execution_count": 66,
     "metadata": {},
     "output_type": "execute_result"
    }
   ],
   "source": [
    "x=input(\"enter-\")\n",
    "y=input(\"enter-\")\n",
    "x[0]+y[0]+x[len(x)//2]+y[len(y)//2]+x[-1]+y[-1]"
   ]
  },
  {
   "cell_type": "code",
   "execution_count": 71,
   "id": "47ae5b3e",
   "metadata": {},
   "outputs": [
    {
     "name": "stdout",
     "output_type": "stream",
     "text": [
      "Enter three names : mnb lkj poi\n",
      "name0:- mnb\n",
      "name4:- lkj\n",
      "name8:- poi\n"
     ]
    }
   ],
   "source": []
  },
  {
   "cell_type": "code",
   "execution_count": null,
   "id": "62acbfe3",
   "metadata": {},
   "outputs": [],
   "source": [
    "#    wapp to take three names as input from a user in the single input () function call\n",
    "#    Example:\n",
    "#    Input:\n",
    "#    Enter three names: - “person1 person2 person3”\n",
    "#    Output:\n",
    "#    Name1: - “person1”\n",
    "#    Name2: - “person2”\n",
    "#    Name3: - “person3”"
   ]
  },
  {
   "cell_type": "code",
   "execution_count": 73,
   "id": "eaca0103",
   "metadata": {},
   "outputs": [
    {
     "name": "stdout",
     "output_type": "stream",
     "text": [
      "enter 3 names-poi lkj mnb\n",
      "name1: poi\n",
      "name2: lkj\n",
      "name3: mnb\n"
     ]
    }
   ],
   "source": [
    "x=input(\"enter 3 names-\")\n",
    "y=x.split()\n",
    "print(\"name1: {}\".format(y[0]))\n",
    "print(\"name2: {}\".format(y[1]))\n",
    "print(\"name3: {}\".format(y[2]))"
   ]
  },
  {
   "cell_type": "code",
   "execution_count": null,
   "id": "816df9c5",
   "metadata": {},
   "outputs": [],
   "source": [
    "# wapp to get a string from a given string where all occurrences of its first char have been\n",
    "# changed to '@', except the first char itself."
   ]
  },
  {
   "cell_type": "code",
   "execution_count": 75,
   "id": "f233df76",
   "metadata": {},
   "outputs": [
    {
     "name": "stdout",
     "output_type": "stream",
     "text": [
      "Type-abacas\n",
      "ab@c@s\n"
     ]
    }
   ],
   "source": [
    "s = input(\"Type-\")\n",
    "t = s[0]\n",
    "for i in s:\n",
    "    s = s.replace(s[0],'@')\n",
    "    s = t + s[1:]\n",
    "print(s)"
   ]
  },
  {
   "cell_type": "code",
   "execution_count": null,
   "id": "896d8677",
   "metadata": {},
   "outputs": [],
   "source": [
    "#wapp to add 'ing' at the end of a given string (string length should be equal to or more than 3). If the given string already ends with 'ing' then add 'ly' instead. If the string length of the given string is less than 3, leave it unchanged"
   ]
  },
  {
   "cell_type": "code",
   "execution_count": 83,
   "id": "c23cff92",
   "metadata": {},
   "outputs": [
    {
     "name": "stdout",
     "output_type": "stream",
     "text": [
      "Type the word_loading\n"
     ]
    },
    {
     "data": {
      "text/plain": [
       "'loadingly'"
      ]
     },
     "execution_count": 83,
     "metadata": {},
     "output_type": "execute_result"
    }
   ],
   "source": [
    "def str():\n",
    "    strr = input(\"Type the word_\")\n",
    "    if len(strr)<3:\n",
    "        return strr\n",
    "    else:\n",
    "        if strr[-3:] == \"ing\":\n",
    "            return strr+\"ly\"\n",
    "        return strr+\"ing\"\n",
    "str()"
   ]
  },
  {
   "cell_type": "code",
   "execution_count": 88,
   "id": "c1524d87",
   "metadata": {},
   "outputs": [
    {
     "name": "stdout",
     "output_type": "stream",
     "text": [
      "Type the word_load\n"
     ]
    },
    {
     "data": {
      "text/plain": [
       "'loading'"
      ]
     },
     "execution_count": 88,
     "metadata": {},
     "output_type": "execute_result"
    }
   ],
   "source": [
    "def str():\n",
    "    strr = input(\"Type the word_\")\n",
    "    if len(strr)<3:\n",
    "        return strr\n",
    "    else:\n",
    "        if strr[-3:] == \"ing\":\n",
    "            return strr+\"ly\"\n",
    "        return strr+\"ing\"\n",
    "str()\n"
   ]
  },
  {
   "cell_type": "code",
   "execution_count": null,
   "id": "ebde2c15",
   "metadata": {},
   "outputs": [],
   "source": [
    "#wapp that accepts two inputs num1 and num2 print True if one of them is 10 or if their sum is 10 otherwise print False"
   ]
  },
  {
   "cell_type": "code",
   "execution_count": 98,
   "id": "421fec52",
   "metadata": {},
   "outputs": [],
   "source": [
    "def cal(x,y):\n",
    "    if x==10 or y==10 or (x+y)==10: \n",
    "        return True\n",
    "    return False"
   ]
  },
  {
   "cell_type": "code",
   "execution_count": 99,
   "id": "f55aff61",
   "metadata": {},
   "outputs": [
    {
     "data": {
      "text/plain": [
       "True"
      ]
     },
     "execution_count": 99,
     "metadata": {},
     "output_type": "execute_result"
    }
   ],
   "source": [
    "cal(5,5)"
   ]
  },
  {
   "cell_type": "code",
   "execution_count": 100,
   "id": "7124611d",
   "metadata": {},
   "outputs": [
    {
     "data": {
      "text/plain": [
       "True"
      ]
     },
     "execution_count": 100,
     "metadata": {},
     "output_type": "execute_result"
    }
   ],
   "source": [
    "cal(10,5)"
   ]
  },
  {
   "cell_type": "code",
   "execution_count": 101,
   "id": "49cb82e2",
   "metadata": {},
   "outputs": [
    {
     "data": {
      "text/plain": [
       "False"
      ]
     },
     "execution_count": 101,
     "metadata": {},
     "output_type": "execute_result"
    }
   ],
   "source": [
    "cal(7.5,7.5)"
   ]
  },
  {
   "cell_type": "code",
   "execution_count": null,
   "id": "39b23ed1",
   "metadata": {},
   "outputs": [],
   "source": [
    "#wapp that accepts three inputs x, y and z print True if x*y>z otherwise False"
   ]
  },
  {
   "cell_type": "code",
   "execution_count": 114,
   "id": "16c22e53",
   "metadata": {},
   "outputs": [
    {
     "name": "stdout",
     "output_type": "stream",
     "text": [
      "Enter x value: 5\n",
      "Enter y value: 5\n",
      "Enter z value: 30\n"
     ]
    },
    {
     "data": {
      "text/plain": [
       "False"
      ]
     },
     "execution_count": 114,
     "metadata": {},
     "output_type": "execute_result"
    }
   ],
   "source": [
    "x = int(input(\"Enter x value: \"))\n",
    "y = int(input(\"Enter y value: \"))\n",
    "z = int(input(\"Enter z value: \"))\n",
    "(bool(x*y > z))"
   ]
  },
  {
   "cell_type": "code",
   "execution_count": null,
   "id": "c396f86c",
   "metadata": {},
   "outputs": [],
   "source": [
    "#wapp that accepts two strings inputs return True depending on whether the total number of characters in the first string is equal to the total number of characters in the second string"
   ]
  },
  {
   "cell_type": "code",
   "execution_count": 116,
   "id": "a0c3530d",
   "metadata": {},
   "outputs": [
    {
     "name": "stdout",
     "output_type": "stream",
     "text": [
      "1st string : rgb\n",
      "1st string : bmi\n"
     ]
    },
    {
     "data": {
      "text/plain": [
       "True"
      ]
     },
     "execution_count": 116,
     "metadata": {},
     "output_type": "execute_result"
    }
   ],
   "source": [
    "s1 = input(\"1st string_\")\n",
    "s2 = input(\"1st string_\")\n",
    "bool(len(s1)==len(s2))"
   ]
  },
  {
   "cell_type": "code",
   "execution_count": 117,
   "id": "d3667693",
   "metadata": {},
   "outputs": [
    {
     "name": "stdout",
     "output_type": "stream",
     "text": [
      "1st string_abcd\n",
      "1st string_xyz\n"
     ]
    },
    {
     "data": {
      "text/plain": [
       "False"
      ]
     },
     "execution_count": 117,
     "metadata": {},
     "output_type": "execute_result"
    }
   ],
   "source": [
    "s1 = input(\"1st string_\")\n",
    "s2 = input(\"1st string_\")\n",
    "bool(len(s1)==len(s2))"
   ]
  },
  {
   "cell_type": "code",
   "execution_count": null,
   "id": "1d70edc9",
   "metadata": {},
   "outputs": [],
   "source": [
    "#wapp that takes a string input, we'll say that the front is the first three characters of the string. If the string length is less than three characters, the front is whatever is there. Return a new string, which is three copies of the front"
   ]
  },
  {
   "cell_type": "code",
   "execution_count": 121,
   "id": "837f653c",
   "metadata": {},
   "outputs": [
    {
     "name": "stdout",
     "output_type": "stream",
     "text": [
      "enter a string :lkjh\n",
      "lkjlkjlkj\n"
     ]
    }
   ],
   "source": [
    "a=input(\"enter_\")\n",
    "if len(a)<3:\n",
    "    print(a)\n",
    "elif len(a)>=3:\n",
    "    print(a[:3]*3)"
   ]
  },
  {
   "cell_type": "code",
   "execution_count": null,
   "id": "3cad990e",
   "metadata": {},
   "outputs": [],
   "source": [
    "#wapp that takes in a word and determines whether or not it is plural. A plural word is one that ends in \"s\"."
   ]
  },
  {
   "cell_type": "code",
   "execution_count": 127,
   "id": "84785dfe",
   "metadata": {},
   "outputs": [
    {
     "name": "stdout",
     "output_type": "stream",
     "text": [
      "goldman sachs\n"
     ]
    },
    {
     "data": {
      "text/plain": [
       "('goldman sachs', 'is a plural word')"
      ]
     },
     "execution_count": 127,
     "metadata": {},
     "output_type": "execute_result"
    }
   ],
   "source": [
    "def plural():\n",
    "    word=input()\n",
    "    if word.endswith(\"s\"):\n",
    "        return word,\"is a plural word\"\n",
    "    else:\n",
    "        return word,\"not a plural word\"\n",
    "plural()\n"
   ]
  },
  {
   "cell_type": "code",
   "execution_count": null,
   "id": "9d350e2e",
   "metadata": {},
   "outputs": [],
   "source": [
    "#A bartender is writing a simple program to determine whether he should serve drinks to someone. He only serves drinks to people 18 and older and when he's not on break (True means break and False means not a break time). Given the person's age, and whether break time is in session, create a python program which prints whether he should serve drinks or not."
   ]
  },
  {
   "cell_type": "code",
   "execution_count": 141,
   "id": "0abb742a",
   "metadata": {},
   "outputs": [
    {
     "name": "stdout",
     "output_type": "stream",
     "text": [
      "what is ur age : 20\n",
      "entet Y if not in break : Y\n",
      "I can serve\n"
     ]
    }
   ],
   "source": [
    "age = int(input(\"what is ur age : \"))\n",
    "break_time = input(\"entet Y if not in break : \")\n",
    "if age > 18 and break_time == \"Y\":\n",
    "    print(\"I can serve\")\n",
    "else:\n",
    "    print(\"sorry I can't\")"
   ]
  },
  {
   "cell_type": "code",
   "execution_count": null,
   "id": "0fd71e84",
   "metadata": {},
   "outputs": [],
   "source": [
    "#Manoj Kumar has family and friends. Help him remind them who is who. Given a string with a name, return the relation of that person to Manoj Kumar.\n",
    "#Person Relation"
   ]
  },
  {
   "cell_type": "code",
   "execution_count": 150,
   "id": "9c68ca4d",
   "metadata": {},
   "outputs": [
    {
     "name": "stdout",
     "output_type": "stream",
     "text": [
      "shiva\n",
      "he is your {'father'}\n"
     ]
    }
   ],
   "source": [
    "d=input()\n",
    "dic ={\"father\":\"shiva\",\"mother\":\"letha\",\"brother\":\"tarun\",\"sister\":\"kavitha\"}\n",
    " \n",
    "value = {i for i in dic if dic[i]==d}\n",
    "print(\"he is your\",value)"
   ]
  },
  {
   "cell_type": "code",
   "execution_count": null,
   "id": "fe031678",
   "metadata": {},
   "outputs": [],
   "source": [
    "#that takes a string, breaks it up and returns it with vowels first, consonants second. For any character that's not a vowel (like special characters or spaces), treat them like consonant"
   ]
  },
  {
   "cell_type": "code",
   "execution_count": 154,
   "id": "3338655a",
   "metadata": {},
   "outputs": [
    {
     "name": "stdout",
     "output_type": "stream",
     "text": [
      "a@de%g\n",
      "aedg@%\n"
     ]
    }
   ],
   "source": [
    "w=input()\n",
    "x=w.lower()\n",
    "y=\"\"\n",
    "z=\"\"\n",
    "v=\"\"\n",
    "for s in x:\n",
    "    if s in [\"a\",\"e\",\"i\",\"o\",\"u\"]:\n",
    "        y+=s\n",
    "    elif s.isalpha():\n",
    "        z+=s\n",
    "    else:\n",
    "        v+=s\n",
    "print(y+z+v)"
   ]
  },
  {
   "cell_type": "code",
   "execution_count": null,
   "id": "2dfbeaf7",
   "metadata": {},
   "outputs": [],
   "source": [
    "#Create a dynamic calculator which asks for numbers and operator and return the answers\n",
    "#Example\n",
    "#Input:\n",
    "#Type first number: 10\n",
    "#Type any of this (+, -, *, /, %, **): *\n",
    "#Kavitha sister\n",
    "#Strange Coder\n",
    "#Assignment-2\n",
    "#Type second number: 19\n",
    "#Output:\n",
    "#nswer is 190"
   ]
  },
  {
   "cell_type": "code",
   "execution_count": 155,
   "id": "0ca4334e",
   "metadata": {},
   "outputs": [
    {
     "name": "stdout",
     "output_type": "stream",
     "text": [
      "enter first value :7\n",
      "enter second value :7\n",
      "type any of this [+, -, *, /, %, **]*\n",
      "the product of two numbers is : 49\n"
     ]
    }
   ],
   "source": [
    "a=int(input(\"enter first value :\"))\n",
    "b=int(input(\"enter second value :\"))\n",
    "c=input(\"type any of this [+, -, *, /, %, **]\")\n",
    "if c==\"+\":\n",
    "    print(\"The addition of two numbers is :\",a+b)\n",
    "elif c==\"-\":\n",
    "    print(\"the substraction of two numbers is :\",a-b)\n",
    "elif c==\"*\":\n",
    "    print(\"the product of two numbers is :\",a*b)\n",
    "elif c==\"%\":\n",
    "    print(\"the  floor division of two numbers is\",a%b)\n",
    "elif c==\"/\":\n",
    "    print(\"the floor division of twi numbers is \",a/b)\n",
    "elif c==\"**\":\n",
    "    print(\"the power of two numbers is\",a**b)"
   ]
  },
  {
   "cell_type": "code",
   "execution_count": null,
   "id": "5e4808d1",
   "metadata": {},
   "outputs": [],
   "source": []
  }
 ],
 "metadata": {
  "kernelspec": {
   "display_name": "Python 3 (ipykernel)",
   "language": "python",
   "name": "python3"
  },
  "language_info": {
   "codemirror_mode": {
    "name": "ipython",
    "version": 3
   },
   "file_extension": ".py",
   "mimetype": "text/x-python",
   "name": "python",
   "nbconvert_exporter": "python",
   "pygments_lexer": "ipython3",
   "version": "3.9.13"
  }
 },
 "nbformat": 4,
 "nbformat_minor": 5
}
