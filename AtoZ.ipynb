{
 "cells": [
  {
   "cell_type": "code",
   "execution_count": 3,
   "id": "51ca054f",
   "metadata": {},
   "outputs": [
    {
     "name": "stdout",
     "output_type": "stream",
     "text": [
      "1\n",
      "3\n",
      "5\n",
      "7\n",
      "9\n"
     ]
    }
   ],
   "source": [
    "a=0\n",
    "while a<=9:\n",
    "    a=a+1\n",
    "    if a%2==0:\n",
    "        continue\n",
    "    print(a)"
   ]
  },
  {
   "cell_type": "code",
   "execution_count": 36,
   "id": "df1dc48b",
   "metadata": {},
   "outputs": [
    {
     "name": "stdout",
     "output_type": "stream",
     "text": [
      "5\n",
      "10\n",
      "15\n",
      "20\n",
      "25\n",
      "30\n",
      "35\n",
      "40\n",
      "45\n",
      "50\n"
     ]
    }
   ],
   "source": [
    "a=0\n",
    "while a<=50:\n",
    "    a=a+1\n",
    "    if a%5!=0:\n",
    "        continue\n",
    "    print(a)"
   ]
  },
  {
   "cell_type": "code",
   "execution_count": 1,
   "id": "083b9181",
   "metadata": {},
   "outputs": [
    {
     "name": "stdout",
     "output_type": "stream",
     "text": [
      " *** \n",
      "*   *\n",
      "*****\n",
      "*   *\n",
      "*   *\n"
     ]
    }
   ],
   "source": [
    "a=1\n",
    "while a<=5:\n",
    "    if a==1:\n",
    "     print(\" *** \")\n",
    "    elif a==2:\n",
    "     print(\"*   *\")\n",
    "    elif a==3:\n",
    "     print(\"*****\")\n",
    "    elif a==4:\n",
    "     print(\"*   *\")\n",
    "    elif a==5:\n",
    "     print(\"*   *\")\n",
    "    a=a+1"
   ]
  },
  {
   "cell_type": "code",
   "execution_count": 7,
   "id": "d4ca4af3",
   "metadata": {},
   "outputs": [
    {
     "name": "stdout",
     "output_type": "stream",
     "text": [
      "**** \n",
      "*   *\n",
      "**** \n",
      "*   *\n",
      "**** \n"
     ]
    }
   ],
   "source": [
    "a=1\n",
    "while a<=5:\n",
    "    if a==1:\n",
    "     print(\"**** \")\n",
    "    elif a==2:\n",
    "     print(\"*   *\")\n",
    "    elif a==3:\n",
    "     print(\"**** \")\n",
    "    elif a==4:\n",
    "     print(\"*   *\")\n",
    "    elif a==5:\n",
    "     print(\"**** \")\n",
    "    a=a+1"
   ]
  },
  {
   "cell_type": "code",
   "execution_count": 37,
   "id": "7016d598",
   "metadata": {},
   "outputs": [
    {
     "name": "stdout",
     "output_type": "stream",
     "text": [
      " ****\n",
      "*    \n",
      "*    \n",
      "*    \n",
      " ****\n"
     ]
    }
   ],
   "source": [
    "a=1\n",
    "while a<=5:\n",
    "    if a==1:\n",
    "     print(\" ****\")\n",
    "    elif a==2:\n",
    "     print(\"*    \")\n",
    "    elif a==3:\n",
    "     print(\"*    \")\n",
    "    elif a==4:\n",
    "     print(\"*    \")\n",
    "    elif a==5:\n",
    "     print(\" ****\")\n",
    "    a=a+1"
   ]
  },
  {
   "cell_type": "code",
   "execution_count": 8,
   "id": "95efe925",
   "metadata": {},
   "outputs": [
    {
     "name": "stdout",
     "output_type": "stream",
     "text": [
      "**** \n",
      "*   *\n",
      "*   *\n",
      "*   *\n",
      "****\n"
     ]
    }
   ],
   "source": [
    "a=1\n",
    "while a<=5:\n",
    "    if a==1:\n",
    "     print(\"**** \")\n",
    "    elif a==2:\n",
    "     print(\"*   *\")\n",
    "    elif a==3:\n",
    "     print(\"*   *\")\n",
    "    elif a==4:\n",
    "     print(\"*   *\")\n",
    "    elif a==5:\n",
    "     print(\"****\")\n",
    "    a=a+1"
   ]
  },
  {
   "cell_type": "code",
   "execution_count": 10,
   "id": "b19ed3cf",
   "metadata": {},
   "outputs": [
    {
     "name": "stdout",
     "output_type": "stream",
     "text": [
      "*****\n",
      "*    \n",
      "**** \n",
      "*    \n",
      "*****\n"
     ]
    }
   ],
   "source": [
    "a=1\n",
    "while a<=5:\n",
    "    if a==1:\n",
    "     print(\"*****\")\n",
    "    elif a==2:\n",
    "     print(\"*    \")\n",
    "    elif a==3:\n",
    "     print(\"**** \")\n",
    "    elif a==4:\n",
    "     print(\"*    \")\n",
    "    elif a==5:\n",
    "     print(\"*****\")\n",
    "    a=a+1"
   ]
  },
  {
   "cell_type": "code",
   "execution_count": 12,
   "id": "91f16a27",
   "metadata": {},
   "outputs": [
    {
     "name": "stdout",
     "output_type": "stream",
     "text": [
      "*****\n",
      "*    \n",
      "**** \n",
      "*    \n",
      "*    \n"
     ]
    }
   ],
   "source": [
    "a=1\n",
    "while a<=5:\n",
    "    if a==1:\n",
    "     print(\"*****\")\n",
    "    elif a==2:\n",
    "     print(\"*    \")\n",
    "    elif a==3:\n",
    "     print(\"**** \")\n",
    "    elif a==4:\n",
    "     print(\"*    \")\n",
    "    elif a==5:\n",
    "     print(\"*    \")\n",
    "    a=a+1"
   ]
  },
  {
   "cell_type": "code",
   "execution_count": 13,
   "id": "6a15a3d7",
   "metadata": {},
   "outputs": [
    {
     "name": "stdout",
     "output_type": "stream",
     "text": [
      "*****\n",
      "*    \n",
      "*  **\n",
      "*   *\n",
      "*****\n"
     ]
    }
   ],
   "source": [
    "a=1\n",
    "while a<=5:\n",
    "    if a==1:\n",
    "     print(\"*****\")\n",
    "    elif a==2:\n",
    "     print(\"*    \")\n",
    "    elif a==3:\n",
    "     print(\"*  **\")\n",
    "    elif a==4:\n",
    "     print(\"*   *\")\n",
    "    elif a==5:\n",
    "     print(\"*****\")\n",
    "    a=a+1"
   ]
  },
  {
   "cell_type": "code",
   "execution_count": 14,
   "id": "9f97dbc0",
   "metadata": {},
   "outputs": [
    {
     "name": "stdout",
     "output_type": "stream",
     "text": [
      "*   *\n",
      "*   *\n",
      "*****\n",
      "*   *\n",
      "*   *\n"
     ]
    }
   ],
   "source": [
    "a=1\n",
    "while a<=5:\n",
    "    if a==1:\n",
    "     print(\"*   *\")\n",
    "    elif a==2:\n",
    "     print(\"*   *\")\n",
    "    elif a==3:\n",
    "     print(\"*****\")\n",
    "    elif a==4:\n",
    "     print(\"*   *\")\n",
    "    elif a==5:\n",
    "     print(\"*   *\")\n",
    "    a=a+1"
   ]
  },
  {
   "cell_type": "code",
   "execution_count": 15,
   "id": "0b467d65",
   "metadata": {},
   "outputs": [
    {
     "name": "stdout",
     "output_type": "stream",
     "text": [
      "*****\n",
      "  *  \n",
      "  *  \n",
      "  *  \n",
      "*****\n"
     ]
    }
   ],
   "source": [
    "a=1\n",
    "while a<=5:\n",
    "    if a==1:\n",
    "     print(\"*****\")\n",
    "    elif a==2:\n",
    "     print(\"  *  \")\n",
    "    elif a==3:\n",
    "     print(\"  *  \")\n",
    "    elif a==4:\n",
    "     print(\"  *  \")\n",
    "    elif a==5:\n",
    "     print(\"*****\")\n",
    "    a=a+1"
   ]
  },
  {
   "cell_type": "code",
   "execution_count": 16,
   "id": "472e5bf8",
   "metadata": {},
   "outputs": [
    {
     "name": "stdout",
     "output_type": "stream",
     "text": [
      "*****\n",
      "  *  \n",
      "  *  \n",
      "  *  \n",
      " **  \n"
     ]
    }
   ],
   "source": [
    "a=1\n",
    "while a<=5:\n",
    "    if a==1:\n",
    "     print(\"*****\")\n",
    "    elif a==2:\n",
    "     print(\"  *  \")\n",
    "    elif a==3:\n",
    "     print(\"  *  \")\n",
    "    elif a==4:\n",
    "     print(\"  *  \")\n",
    "    elif a==5:\n",
    "     print(\" **  \")\n",
    "    a=a+1"
   ]
  },
  {
   "cell_type": "code",
   "execution_count": 17,
   "id": "e70dcec4",
   "metadata": {},
   "outputs": [
    {
     "name": "stdout",
     "output_type": "stream",
     "text": [
      "*    *\n",
      "*  *  \n",
      "**   \n",
      "*  *  \n",
      "*    *\n"
     ]
    }
   ],
   "source": [
    "a=1\n",
    "while a<=5:\n",
    "    if a==1:\n",
    "     print(\"*    *\")\n",
    "    elif a==2:\n",
    "     print(\"*  *  \")\n",
    "    elif a==3:\n",
    "     print(\"**   \")\n",
    "    elif a==4:\n",
    "     print(\"*  *  \")\n",
    "    elif a==5:\n",
    "     print(\"*    *\")\n",
    "    a=a+1"
   ]
  },
  {
   "cell_type": "code",
   "execution_count": 18,
   "id": "446868e0",
   "metadata": {},
   "outputs": [
    {
     "name": "stdout",
     "output_type": "stream",
     "text": [
      "*    \n",
      "*    \n",
      "*    \n",
      "*    \n",
      "*****\n"
     ]
    }
   ],
   "source": [
    "a=1\n",
    "while a<=5:\n",
    "    if a==1:\n",
    "     print(\"*    \")\n",
    "    elif a==2:\n",
    "     print(\"*    \")\n",
    "    elif a==3:\n",
    "     print(\"*    \")\n",
    "    elif a==4:\n",
    "     print(\"*    \")\n",
    "    elif a==5:\n",
    "     print(\"*****\")\n",
    "    a=a+1"
   ]
  },
  {
   "cell_type": "code",
   "execution_count": 58,
   "id": "e6f77855",
   "metadata": {},
   "outputs": [
    {
     "name": "stdout",
     "output_type": "stream",
     "text": [
      "*      *\n",
      "* *  * *\n",
      "*   *  *\n",
      "*      *\n",
      "*      *\n"
     ]
    }
   ],
   "source": [
    "a=1\n",
    "while a<=5:\n",
    "    if a==1:\n",
    "     print(\"*      *\")\n",
    "    elif a==2:\n",
    "     print(\"* *  * *\")\n",
    "    elif a==3:\n",
    "     print(\"*   *  *\")\n",
    "    elif a==4:\n",
    "     print(\"*      *\")\n",
    "    elif a==5:\n",
    "     print(\"*      *\")\n",
    "    a=a+1"
   ]
  },
  {
   "cell_type": "code",
   "execution_count": 24,
   "id": "9f65ee3c",
   "metadata": {},
   "outputs": [
    {
     "name": "stdout",
     "output_type": "stream",
     "text": [
      "*     *\n",
      "* *   *\n",
      "*  *  *\n",
      "*   * *\n",
      "*     *\n"
     ]
    }
   ],
   "source": [
    "a=1\n",
    "while a<=5:\n",
    "    if a==1:\n",
    "     print(\"*     *\")\n",
    "    elif a==2:\n",
    "     print(\"* *   *\")\n",
    "    elif a==3:\n",
    "     print(\"*  *  *\")\n",
    "    elif a==4:\n",
    "     print(\"*   * *\")\n",
    "    elif a==5:\n",
    "     print(\"*     *\")\n",
    "    a=a+1"
   ]
  },
  {
   "cell_type": "code",
   "execution_count": 31,
   "id": "0cca70fd",
   "metadata": {},
   "outputs": [
    {
     "name": "stdout",
     "output_type": "stream",
     "text": [
      " *** \n",
      "*   *\n",
      "*   *\n",
      "*   *\n",
      " *** \n"
     ]
    }
   ],
   "source": [
    "a=1\n",
    "while a<=5:\n",
    "    if a==1:\n",
    "     print(\" *** \")\n",
    "    elif a==2:\n",
    "     print(\"*   *\")\n",
    "    elif a==3:\n",
    "     print(\"*   *\")\n",
    "    elif a==4:\n",
    "     print(\"*   *\")\n",
    "    elif a==5:\n",
    "     print(\" *** \")\n",
    "    a=a+1"
   ]
  },
  {
   "cell_type": "code",
   "execution_count": 40,
   "id": "7e8e52e4",
   "metadata": {},
   "outputs": [
    {
     "name": "stdout",
     "output_type": "stream",
     "text": [
      "**** \n",
      "*   *\n",
      "**** \n",
      "*    \n",
      "*    \n"
     ]
    }
   ],
   "source": [
    "a=1\n",
    "while a<=5:\n",
    "    if a==1:\n",
    "     print(\"**** \")\n",
    "    elif a==2:\n",
    "     print(\"*   *\")\n",
    "    elif a==3:\n",
    "     print(\"**** \")\n",
    "    elif a==4:\n",
    "     print(\"*    \")\n",
    "    elif a==5:\n",
    "     print(\"*    \")\n",
    "    a=a+1"
   ]
  },
  {
   "cell_type": "code",
   "execution_count": 44,
   "id": "e5cb3242",
   "metadata": {},
   "outputs": [
    {
     "name": "stdout",
     "output_type": "stream",
     "text": [
      " ***** \n",
      "*     *\n",
      "*   * *\n",
      "*     *\n",
      " *****  *\n"
     ]
    }
   ],
   "source": [
    "a=1\n",
    "while a<=5:\n",
    "    if a==1:\n",
    "     print(\" ***** \")\n",
    "    elif a==2:\n",
    "     print(\"*     *\")\n",
    "    elif a==3:\n",
    "     print(\"*   * *\")\n",
    "    elif a==4:\n",
    "     print(\"*     *\")\n",
    "    elif a==5:\n",
    "     print(\" *****  *\")\n",
    "    a=a+1"
   ]
  },
  {
   "cell_type": "code",
   "execution_count": 46,
   "id": "6f56e30c",
   "metadata": {},
   "outputs": [
    {
     "name": "stdout",
     "output_type": "stream",
     "text": [
      "**** \n",
      "*   *\n",
      "**** \n",
      "*   * \n",
      "*   *\n"
     ]
    }
   ],
   "source": [
    "a=1\n",
    "while a<=5:\n",
    "    if a==1:\n",
    "     print(\"**** \")\n",
    "    elif a==2:\n",
    "     print(\"*   *\")\n",
    "    elif a==3:\n",
    "     print(\"**** \")\n",
    "    elif a==4:\n",
    "     print(\"*   * \")\n",
    "    elif a==5:\n",
    "     print(\"*   *\")\n",
    "    a=a+1"
   ]
  },
  {
   "cell_type": "code",
   "execution_count": 48,
   "id": "35f3a7bb",
   "metadata": {},
   "outputs": [
    {
     "name": "stdout",
     "output_type": "stream",
     "text": [
      " *** \n",
      "*    \n",
      " *** \n",
      "    *\n",
      " *** \n"
     ]
    }
   ],
   "source": [
    "a=1\n",
    "while a<=5:\n",
    "    if a==1:\n",
    "     print(\" *** \")\n",
    "    elif a==2:\n",
    "     print(\"*    \")\n",
    "    elif a==3:\n",
    "     print(\" *** \")\n",
    "    elif a==4:\n",
    "     print(\"    *\")\n",
    "    elif a==5:\n",
    "     print(\" *** \")\n",
    "    a=a+1"
   ]
  },
  {
   "cell_type": "code",
   "execution_count": 49,
   "id": "9e48a71a",
   "metadata": {},
   "outputs": [
    {
     "name": "stdout",
     "output_type": "stream",
     "text": [
      " *** \n",
      "  *  \n",
      "  *  \n",
      "  *  \n",
      "  *  \n"
     ]
    }
   ],
   "source": [
    "a=1\n",
    "while a<=5:\n",
    "    if a==1:\n",
    "     print(\" *** \")\n",
    "    elif a==2:\n",
    "     print(\"  *  \")\n",
    "    elif a==3:\n",
    "     print(\"  *  \")\n",
    "    elif a==4:\n",
    "     print(\"  *  \")\n",
    "    elif a==5:\n",
    "     print(\"  *  \")\n",
    "    a=a+1"
   ]
  },
  {
   "cell_type": "code",
   "execution_count": 50,
   "id": "0e6d616d",
   "metadata": {},
   "outputs": [
    {
     "name": "stdout",
     "output_type": "stream",
     "text": [
      "*   *\n",
      "*   *\n",
      "*   *\n",
      "*   *\n",
      " *** \n"
     ]
    }
   ],
   "source": [
    "a=1\n",
    "while a<=5:\n",
    "    if a==1:\n",
    "     print(\"*   *\")\n",
    "    elif a==2:\n",
    "     print(\"*   *\")\n",
    "    elif a==3:\n",
    "     print(\"*   *\")\n",
    "    elif a==4:\n",
    "     print(\"*   *\")\n",
    "    elif a==5:\n",
    "     print(\" *** \")\n",
    "    a=a+1"
   ]
  },
  {
   "cell_type": "code",
   "execution_count": 52,
   "id": "2744f9a3",
   "metadata": {},
   "outputs": [
    {
     "name": "stdout",
     "output_type": "stream",
     "text": [
      "*   *\n",
      "*   *\n",
      "*   *\n",
      " * * \n",
      "  *  \n"
     ]
    }
   ],
   "source": [
    "a=1\n",
    "while a<=5:\n",
    "    if a==1:\n",
    "     print(\"*   *\")\n",
    "    elif a==2:\n",
    "     print(\"*   *\")\n",
    "    elif a==3:\n",
    "     print(\"*   *\")\n",
    "    elif a==4:\n",
    "     print(\" * * \")\n",
    "    elif a==5:\n",
    "     print(\"  *  \")\n",
    "    a=a+1"
   ]
  },
  {
   "cell_type": "code",
   "execution_count": 55,
   "id": "3c43284f",
   "metadata": {},
   "outputs": [
    {
     "name": "stdout",
     "output_type": "stream",
     "text": [
      "*     *\n",
      "*     *\n",
      "*  *  *\n",
      "*  *  *\n",
      " *   * \n"
     ]
    }
   ],
   "source": [
    "a=1\n",
    "while a<=5:\n",
    "    if a==1:\n",
    "     print(\"*     *\")\n",
    "    elif a==2:\n",
    "     print(\"*     *\")\n",
    "    elif a==3:\n",
    "     print(\"*  *  *\")\n",
    "    elif a==4:\n",
    "     print(\"*  *  *\")\n",
    "    elif a==5:\n",
    "     print(\" *   * \")\n",
    "    a=a+1"
   ]
  },
  {
   "cell_type": "code",
   "execution_count": 59,
   "id": "c38da515",
   "metadata": {},
   "outputs": [
    {
     "name": "stdout",
     "output_type": "stream",
     "text": [
      "*   *\n",
      " * * \n",
      "  *  \n",
      " * * \n",
      "*   *\n"
     ]
    }
   ],
   "source": [
    "a=1\n",
    "while a<=5:\n",
    "    if a==1:\n",
    "     print(\"*   *\")\n",
    "    elif a==2:\n",
    "     print(\" * * \")\n",
    "    elif a==3:\n",
    "     print(\"  *  \")\n",
    "    elif a==4:\n",
    "     print(\" * * \")\n",
    "    elif a==5:\n",
    "     print(\"*   *\")\n",
    "    a=a+1"
   ]
  },
  {
   "cell_type": "code",
   "execution_count": 60,
   "id": "7c429cbd",
   "metadata": {},
   "outputs": [
    {
     "name": "stdout",
     "output_type": "stream",
     "text": [
      "*   *\n",
      " * * \n",
      "  *  \n",
      " *   \n",
      "*    \n"
     ]
    }
   ],
   "source": [
    "a=1\n",
    "while a<=5:\n",
    "    if a==1:\n",
    "     print(\"*   *\")\n",
    "    elif a==2:\n",
    "     print(\" * * \")\n",
    "    elif a==3:\n",
    "     print(\"  *  \")\n",
    "    elif a==4:\n",
    "     print(\" *   \")\n",
    "    elif a==5:\n",
    "     print(\"*    \")\n",
    "    a=a+1"
   ]
  },
  {
   "cell_type": "code",
   "execution_count": 61,
   "id": "45233f48",
   "metadata": {},
   "outputs": [
    {
     "name": "stdout",
     "output_type": "stream",
     "text": [
      "*****\n",
      "   * \n",
      "  *  \n",
      " *   \n",
      "*****\n"
     ]
    }
   ],
   "source": [
    "a=1\n",
    "while a<=5:\n",
    "    if a==1:\n",
    "     print(\"*****\")\n",
    "    elif a==2:\n",
    "     print(\"   * \")\n",
    "    elif a==3:\n",
    "     print(\"  *  \")\n",
    "    elif a==4:\n",
    "     print(\" *   \")\n",
    "    elif a==5:\n",
    "     print(\"*****\")\n",
    "    a=a+1"
   ]
  },
  {
   "cell_type": "code",
   "execution_count": 8,
   "id": "2bd9a687",
   "metadata": {},
   "outputs": [
    {
     "name": "stdout",
     "output_type": "stream",
     "text": [
      "****** \n",
      "      *\n",
      " ******\n",
      "*     *\n",
      " ***** *\n"
     ]
    }
   ],
   "source": [
    "a=1\n",
    "while a<=5:\n",
    "    if a==1:\n",
    "     print(\"****** \")\n",
    "    elif a==2:\n",
    "     print(\"      *\")\n",
    "    elif a==3:\n",
    "     print(\" ******\")\n",
    "    elif a==4:\n",
    "     print(\"*     *\")\n",
    "    elif a==5:\n",
    "     print(\" ***** *\")\n",
    "    a=a+1"
   ]
  },
  {
   "cell_type": "code",
   "execution_count": 9,
   "id": "0f0fd562",
   "metadata": {},
   "outputs": [
    {
     "name": "stdout",
     "output_type": "stream",
     "text": [
      "*     \n",
      "*     \n",
      "***** \n",
      "*    *\n",
      "*****\n"
     ]
    }
   ],
   "source": [
    "a=1\n",
    "while a<=5:\n",
    "    if a==1:\n",
    "     print(\"*     \")\n",
    "    elif a==2:\n",
    "     print(\"*     \")\n",
    "    elif a==3:\n",
    "     print(\"***** \")\n",
    "    elif a==4:\n",
    "     print(\"*    *\")\n",
    "    elif a==5:\n",
    "     print(\"*****\")\n",
    "    a=a+1"
   ]
  },
  {
   "cell_type": "code",
   "execution_count": 10,
   "id": "df63b2d9",
   "metadata": {},
   "outputs": [
    {
     "name": "stdout",
     "output_type": "stream",
     "text": [
      "     \n",
      " ****\n",
      "*    \n",
      "*    \n",
      " ****\n"
     ]
    }
   ],
   "source": [
    "a=1\n",
    "while a<=5:\n",
    "    if a==1:\n",
    "     print(\"     \")\n",
    "    elif a==2:\n",
    "     print(\" ****\")\n",
    "    elif a==3:\n",
    "     print(\"*    \")\n",
    "    elif a==4:\n",
    "     print(\"*    \")\n",
    "    elif a==5:\n",
    "     print(\" ****\")\n",
    "    a=a+1"
   ]
  },
  {
   "cell_type": "code",
   "execution_count": 11,
   "id": "9828468f",
   "metadata": {},
   "outputs": [
    {
     "name": "stdout",
     "output_type": "stream",
     "text": [
      "    *\n",
      "    *\n",
      " ****\n",
      "*   *\n",
      " ****\n"
     ]
    }
   ],
   "source": [
    "a=1\n",
    "while a<=5:\n",
    "    if a==1:\n",
    "     print(\"    *\")\n",
    "    elif a==2:\n",
    "     print(\"    *\")\n",
    "    elif a==3:\n",
    "     print(\" ****\")\n",
    "    elif a==4:\n",
    "     print(\"*   *\")\n",
    "    elif a==5:\n",
    "     print(\" ****\")\n",
    "    a=a+1"
   ]
  },
  {
   "cell_type": "code",
   "execution_count": 13,
   "id": "626bb459",
   "metadata": {},
   "outputs": [
    {
     "name": "stdout",
     "output_type": "stream",
     "text": [
      "     \n",
      " **** \n",
      "******\n",
      "*   \n",
      " ****\n"
     ]
    }
   ],
   "source": [
    "a=1\n",
    "while a<=5:\n",
    "    if a==1:\n",
    "     print(\"     \")\n",
    "    elif a==2:\n",
    "     print(\" **** \")\n",
    "    elif a==3:\n",
    "     print(\"******\")\n",
    "    elif a==4:\n",
    "     print(\"*   \")\n",
    "    elif a==5:\n",
    "     print(\" ****\")\n",
    "    a=a+1"
   ]
  },
  {
   "cell_type": "code",
   "execution_count": 17,
   "id": "1fad462b",
   "metadata": {},
   "outputs": [
    {
     "name": "stdout",
     "output_type": "stream",
     "text": [
      "  ***\n",
      "  *  \n",
      " *** \n",
      "  *  \n",
      "  *  \n"
     ]
    }
   ],
   "source": [
    "a=1\n",
    "while a<=5:\n",
    "    if a==1:\n",
    "     print(\"  ***\")\n",
    "    elif a==2:\n",
    "     print(\"  *  \")\n",
    "    elif a==3:\n",
    "     print(\" *** \")\n",
    "    elif a==4:\n",
    "     print(\"  *  \")\n",
    "    elif a==5:\n",
    "     print(\"  *  \")\n",
    "    a=a+1"
   ]
  },
  {
   "cell_type": "code",
   "execution_count": 22,
   "id": "fb23c7f8",
   "metadata": {},
   "outputs": [
    {
     "name": "stdout",
     "output_type": "stream",
     "text": [
      " *** \n",
      "*****\n",
      "    *\n",
      "*   *\n",
      " *** \n"
     ]
    }
   ],
   "source": [
    "a=1\n",
    "while a<=5:\n",
    "    if a==1:\n",
    "     print(\" *** \")\n",
    "    elif a==2:\n",
    "     print(\"*****\")\n",
    "    elif a==3:\n",
    "     print(\"    *\")\n",
    "    elif a==4:\n",
    "     print(\"*   *\")\n",
    "    elif a==5:\n",
    "     print(\" *** \")\n",
    "    a=a+1"
   ]
  },
  {
   "cell_type": "code",
   "execution_count": 23,
   "id": "2df982d2",
   "metadata": {},
   "outputs": [
    {
     "name": "stdout",
     "output_type": "stream",
     "text": [
      "*    \n",
      "*    \n",
      "*** \n",
      "*  *\n",
      "*  *\n"
     ]
    }
   ],
   "source": [
    "a=1\n",
    "while a<=5:\n",
    "    if a==1:\n",
    "     print(\"*    \")\n",
    "    elif a==2:\n",
    "     print(\"*    \")\n",
    "    elif a==3:\n",
    "     print(\"*** \")\n",
    "    elif a==4:\n",
    "     print(\"*  *\")\n",
    "    elif a==5:\n",
    "     print(\"*  *\")\n",
    "    a=a+1"
   ]
  },
  {
   "cell_type": "code",
   "execution_count": 24,
   "id": "94c9ebc5",
   "metadata": {},
   "outputs": [
    {
     "name": "stdout",
     "output_type": "stream",
     "text": [
      "*\n",
      " \n",
      "*\n",
      "*\n",
      "*\n"
     ]
    }
   ],
   "source": [
    "a=1\n",
    "while a<=5:\n",
    "    if a==1:\n",
    "     print(\"*\")\n",
    "    elif a==2:\n",
    "     print(\" \")\n",
    "    elif a==3:\n",
    "     print(\"*\")\n",
    "    elif a==4:\n",
    "     print(\"*\")\n",
    "    elif a==5:\n",
    "     print(\"*\")\n",
    "    a=a+1"
   ]
  },
  {
   "cell_type": "code",
   "execution_count": 26,
   "id": "ade237d3",
   "metadata": {},
   "outputs": [
    {
     "name": "stdout",
     "output_type": "stream",
     "text": [
      "  * \n",
      "\n",
      "  *\n",
      "  *\n",
      "** \n"
     ]
    }
   ],
   "source": [
    "a=1\n",
    "while a<=5:\n",
    "    if a==1:\n",
    "     print(\"  * \")\n",
    "    elif a==2:\n",
    "     print(\"\")\n",
    "    elif a==3:\n",
    "     print(\"  *\")\n",
    "    elif a==4:\n",
    "     print(\"  *\")\n",
    "    elif a==5:\n",
    "     print(\"** \")\n",
    "    a=a+1"
   ]
  },
  {
   "cell_type": "code",
   "execution_count": 29,
   "id": "965b4749",
   "metadata": {},
   "outputs": [
    {
     "name": "stdout",
     "output_type": "stream",
     "text": [
      "*\n",
      "*\n",
      "*    *\n",
      "*  *\n",
      "*\n",
      "*  *\n",
      "*    *\n"
     ]
    }
   ],
   "source": [
    "a=1\n",
    "while a<=7:\n",
    "    if a==1:\n",
    "     print(\"*\")\n",
    "    elif a==2:\n",
    "     print(\"*\")\n",
    "    elif a==3:\n",
    "     print(\"*    *\")\n",
    "    elif a==4:\n",
    "     print(\"*  *\")\n",
    "    elif a==5:\n",
    "     print(\"*\")\n",
    "    elif a==6:\n",
    "     print(\"*  *\")\n",
    "    elif a==7:\n",
    "     print(\"*    *\")\n",
    "    a=a+1"
   ]
  },
  {
   "cell_type": "code",
   "execution_count": 30,
   "id": "3bd20794",
   "metadata": {},
   "outputs": [
    {
     "name": "stdout",
     "output_type": "stream",
     "text": [
      "*\n",
      "*\n",
      "*\n",
      "*\n",
      "*\n"
     ]
    }
   ],
   "source": [
    "a=1\n",
    "while a<=5:\n",
    "    if a==1:\n",
    "     print(\"*\")\n",
    "    elif a==2:\n",
    "     print(\"*\")\n",
    "    elif a==3:\n",
    "     print(\"*\")\n",
    "    elif a==4:\n",
    "     print(\"*\")\n",
    "    elif a==5:\n",
    "     print(\"*\")\n",
    "    a=a+1"
   ]
  },
  {
   "cell_type": "code",
   "execution_count": 35,
   "id": "af82aec4",
   "metadata": {},
   "outputs": [
    {
     "name": "stdout",
     "output_type": "stream",
     "text": [
      "* *** ***\n",
      " *   *   *\n",
      " *   *   *\n",
      " *   *   *\n"
     ]
    }
   ],
   "source": [
    "a=1\n",
    "while a<=4:\n",
    "    if a==1:\n",
    "     print(\"* *** ***\")\n",
    "    elif a==2:\n",
    "     print(\" *   *   *\")\n",
    "    elif a==3:\n",
    "     print(\" *   *   *\")\n",
    "    elif a==4:\n",
    "     print(\" *   *   *\")\n",
    "    a=a+1"
   ]
  },
  {
   "cell_type": "code",
   "execution_count": 36,
   "id": "c5fa126c",
   "metadata": {},
   "outputs": [
    {
     "name": "stdout",
     "output_type": "stream",
     "text": [
      "\n",
      "* **\n",
      " *  *\n",
      " *  *\n",
      " *  *\n"
     ]
    }
   ],
   "source": [
    "a=1\n",
    "while a<=5:\n",
    "    if a==1:\n",
    "     print(\"\")\n",
    "    elif a==2:\n",
    "     print(\"* **\")\n",
    "    elif a==3:\n",
    "     print(\" *  *\")\n",
    "    elif a==4:\n",
    "     print(\" *  *\")\n",
    "    elif a==5:\n",
    "     print(\" *  *\")\n",
    "    a=a+1"
   ]
  },
  {
   "cell_type": "code",
   "execution_count": 37,
   "id": "a93cd99b",
   "metadata": {},
   "outputs": [
    {
     "name": "stdout",
     "output_type": "stream",
     "text": [
      "\n",
      " ***\n",
      "*   *\n",
      "*   *\n",
      " ***\n"
     ]
    }
   ],
   "source": [
    "a=1\n",
    "while a<=5:\n",
    "    if a==1:\n",
    "     print(\"\")\n",
    "    elif a==2:\n",
    "     print(\" ***\" )\n",
    "    elif a==3:\n",
    "     print(\"*   *\")\n",
    "    elif a==4:\n",
    "     print(\"*   *\")\n",
    "    elif a==5:\n",
    "     print(\" ***\")\n",
    "    a=a+1"
   ]
  },
  {
   "cell_type": "code",
   "execution_count": 39,
   "id": "b10d9c6f",
   "metadata": {},
   "outputs": [
    {
     "name": "stdout",
     "output_type": "stream",
     "text": [
      "\n",
      "***\n",
      "*  *\n",
      "***\n",
      "*\n"
     ]
    }
   ],
   "source": [
    "a=1\n",
    "while a<=5:\n",
    "    if a==1:\n",
    "     print(\"\")\n",
    "    elif a==2:\n",
    "     print(\"***\")\n",
    "    elif a==3:\n",
    "     print(\"*  *\")\n",
    "    elif a==4:\n",
    "     print(\"***\")\n",
    "    elif a==5:\n",
    "     print(\"*\")\n",
    "    a=a+1"
   ]
  },
  {
   "cell_type": "code",
   "execution_count": 40,
   "id": "4a191885",
   "metadata": {},
   "outputs": [
    {
     "name": "stdout",
     "output_type": "stream",
     "text": [
      " ****\n",
      "*   *\n",
      " ****\n",
      "    *\n",
      "    *\n"
     ]
    }
   ],
   "source": [
    "a=1\n",
    "while a<=5:\n",
    "    if a==1:\n",
    "     print(\" ****\")\n",
    "    elif a==2:\n",
    "     print(\"*   *\")\n",
    "    elif a==3:\n",
    "     print(\" ****\")\n",
    "    elif a==4:\n",
    "     print(\"    *\")\n",
    "    elif a==5:\n",
    "     print(\"    *\")\n",
    "    a=a+1"
   ]
  },
  {
   "cell_type": "code",
   "execution_count": 43,
   "id": "13e94972",
   "metadata": {},
   "outputs": [
    {
     "name": "stdout",
     "output_type": "stream",
     "text": [
      "* ***\n",
      " *  **\n",
      " *\n",
      " *\n"
     ]
    }
   ],
   "source": [
    "a=1\n",
    "while a<=4:\n",
    "    if a==1:\n",
    "     print(\"* ***\")\n",
    "    elif a==2:\n",
    "     print(\" *  **\")\n",
    "    elif a==3:\n",
    "     print(\" *\")\n",
    "    elif a==4:\n",
    "     print(\" *\")\n",
    "    a=a+1"
   ]
  },
  {
   "cell_type": "code",
   "execution_count": 44,
   "id": "16d9d9a3",
   "metadata": {},
   "outputs": [
    {
     "name": "stdout",
     "output_type": "stream",
     "text": [
      " *** \n",
      "*\n",
      " ***\n",
      "    *\n",
      " ***\n"
     ]
    }
   ],
   "source": [
    "a=1\n",
    "while a<=5:\n",
    "    if a==1:\n",
    "     print(\" *** \")\n",
    "    elif a==2:\n",
    "     print(\"*\")\n",
    "    elif a==3:\n",
    "     print(\" ***\")\n",
    "    elif a==4:\n",
    "     print(\"    *\")\n",
    "    elif a==5:\n",
    "     print(\" ***\")\n",
    "    a=a+1"
   ]
  },
  {
   "cell_type": "code",
   "execution_count": 45,
   "id": "0918b734",
   "metadata": {},
   "outputs": [
    {
     "name": "stdout",
     "output_type": "stream",
     "text": [
      " *\n",
      " *\n",
      "***\n",
      " *\n",
      "  **\n"
     ]
    }
   ],
   "source": [
    "a=1\n",
    "while a<=5:\n",
    "    if a==1:\n",
    "     print(\" *\")\n",
    "    elif a==2:\n",
    "     print(\" *\")\n",
    "    elif a==3:\n",
    "     print(\"***\")\n",
    "    elif a==4:\n",
    "     print(\" *\")\n",
    "    elif a==5:\n",
    "     print(\"  **\") \n",
    "    a=a+1"
   ]
  },
  {
   "cell_type": "code",
   "execution_count": 46,
   "id": "4f77efde",
   "metadata": {},
   "outputs": [
    {
     "name": "stdout",
     "output_type": "stream",
     "text": [
      "\n",
      "*  *\n",
      "*  *\n",
      "*  *\n",
      " ** *\n"
     ]
    }
   ],
   "source": [
    "a=1\n",
    "while a<=5:\n",
    "    if a==1:\n",
    "     print(\"\")\n",
    "    elif a==2:\n",
    "     print(\"*  *\")\n",
    "    elif a==3:\n",
    "     print(\"*  *\")\n",
    "    elif a==4:\n",
    "     print(\"*  *\")\n",
    "    elif a==5:\n",
    "     print(\" ** *\")\n",
    "    a=a+1"
   ]
  },
  {
   "cell_type": "code",
   "execution_count": 47,
   "id": "2b8aedb1",
   "metadata": {},
   "outputs": [
    {
     "name": "stdout",
     "output_type": "stream",
     "text": [
      "\n",
      "*     *\n",
      " *   *\n",
      "  * *\n",
      "   *\n"
     ]
    }
   ],
   "source": [
    "a=1\n",
    "while a<=5:\n",
    "    if a==1:\n",
    "     print(\"\")\n",
    "    elif a==2:\n",
    "     print(\"*     *\")\n",
    "    elif a==3:\n",
    "     print(\" *   *\")\n",
    "    elif a==4:\n",
    "     print(\"  * *\")\n",
    "    elif a==5:\n",
    "     print(\"   *\")\n",
    "    a=a+1"
   ]
  },
  {
   "cell_type": "code",
   "execution_count": 49,
   "id": "25cc635d",
   "metadata": {},
   "outputs": [
    {
     "name": "stdout",
     "output_type": "stream",
     "text": [
      "*  *  *\n",
      "*  *  *\n",
      "*  *  *\n",
      " *  *  *\n"
     ]
    }
   ],
   "source": [
    "a=1\n",
    "while a<=4:\n",
    "    if a==1:\n",
    "     print(\"*  *  *\")\n",
    "    elif a==2:\n",
    "     print(\"*  *  *\")\n",
    "    elif a==3:\n",
    "     print(\"*  *  *\")\n",
    "    elif a==4:\n",
    "     print(\" *  *  *\")\n",
    "    a=a+1"
   ]
  },
  {
   "cell_type": "code",
   "execution_count": 69,
   "id": "157526f5",
   "metadata": {},
   "outputs": [
    {
     "name": "stdout",
     "output_type": "stream",
     "text": [
      "*     *\n",
      "  * *\n",
      "   *\n",
      " *  *\n",
      "*     *\n"
     ]
    }
   ],
   "source": [
    "a=1\n",
    "while a<=5:\n",
    "    if a==1:\n",
    "     print(\"*     *\")\n",
    "    elif a==2:\n",
    "     print(\"  * *\")\n",
    "    elif a==3:\n",
    "     print(\"   *\")\n",
    "    elif a==4:\n",
    "     print(\" *  *\")\n",
    "    elif a==5:\n",
    "     print(\"*     *\")\n",
    "    a=a+1"
   ]
  },
  {
   "cell_type": "code",
   "execution_count": 59,
   "id": "366465c8",
   "metadata": {},
   "outputs": [
    {
     "name": "stdout",
     "output_type": "stream",
     "text": [
      "*   *\n",
      "*   *\n",
      " ****\n",
      "    *\n",
      "****\n"
     ]
    }
   ],
   "source": [
    "a=1\n",
    "while a<=5:\n",
    "    if a==1:\n",
    "     print(\"*   *\")\n",
    "    elif a==2:\n",
    "     print(\"*   *\")\n",
    "    elif a==3:\n",
    "     print(\" ****\")\n",
    "    elif a==4:\n",
    "     print(\"    *\")\n",
    "    elif a==5:\n",
    "     print(\"****\")\n",
    "    a=a+1"
   ]
  },
  {
   "cell_type": "code",
   "execution_count": 67,
   "id": "d84c63ad",
   "metadata": {},
   "outputs": [
    {
     "name": "stdout",
     "output_type": "stream",
     "text": [
      "****\n",
      "  *\n",
      " *\n",
      "*\n",
      "****\n"
     ]
    }
   ],
   "source": [
    "a=1\n",
    "while a<=5:\n",
    "    if a==1:\n",
    "     print(\"****\")\n",
    "    elif a==2:\n",
    "     print(\"  *\")\n",
    "    elif a==3:\n",
    "     print(\" *\")\n",
    "    elif a==4:\n",
    "     print(\"*\")\n",
    "    elif a==5:\n",
    "     print(\"****\")\n",
    "    a=a+1"
   ]
  },
  {
   "cell_type": "code",
   "execution_count": null,
   "id": "fbe0bc46",
   "metadata": {},
   "outputs": [],
   "source": []
  }
 ],
 "metadata": {
  "kernelspec": {
   "display_name": "Python 3 (ipykernel)",
   "language": "python",
   "name": "python3"
  },
  "language_info": {
   "codemirror_mode": {
    "name": "ipython",
    "version": 3
   },
   "file_extension": ".py",
   "mimetype": "text/x-python",
   "name": "python",
   "nbconvert_exporter": "python",
   "pygments_lexer": "ipython3",
   "version": "3.9.13"
  }
 },
 "nbformat": 4,
 "nbformat_minor": 5
}
