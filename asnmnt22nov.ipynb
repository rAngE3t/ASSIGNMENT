{
 "cells": [
  {
   "cell_type": "code",
   "execution_count": null,
   "id": "d77e8baf",
   "metadata": {},
   "outputs": [],
   "source": [
    "#WAPP to convert a string to lower case"
   ]
  },
  {
   "cell_type": "code",
   "execution_count": 2,
   "id": "956f93a9",
   "metadata": {},
   "outputs": [
    {
     "name": "stdout",
     "output_type": "stream",
     "text": [
      "uppercase alphabets_NETFLIX\n"
     ]
    },
    {
     "data": {
      "text/plain": [
       "'netflix'"
      ]
     },
     "execution_count": 2,
     "metadata": {},
     "output_type": "execute_result"
    }
   ],
   "source": [
    "x=input(\"uppercase alphabets_\")\n",
    "x.lower()"
   ]
  },
  {
   "cell_type": "code",
   "execution_count": 5,
   "id": "5d8b8083",
   "metadata": {},
   "outputs": [],
   "source": [
    "#WAPP convert even indexed char to lower case"
   ]
  },
  {
   "cell_type": "code",
   "execution_count": 1,
   "id": "27fad082",
   "metadata": {},
   "outputs": [
    {
     "name": "stdout",
     "output_type": "stream",
     "text": [
      "enterstranger things\n",
      " StRaNgEr tHiNgS\n"
     ]
    }
   ],
   "source": [
    "x=input(\"enter\")\n",
    "y=\" \"\n",
    "for z in range(len(x)):\n",
    "    if z%2==0:\n",
    "     y=y+x[z].upper()\n",
    "    else:\n",
    "     y=y+x[z].lower()\n",
    "print(y)\n",
    "    \n",
    " \n",
    "\n",
    "    "
   ]
  },
  {
   "cell_type": "code",
   "execution_count": 25,
   "id": "256370bf",
   "metadata": {},
   "outputs": [
    {
     "name": "stdout",
     "output_type": "stream",
     "text": [
      "a s e r\n"
     ]
    }
   ],
   "source": [
    "d=\"aser\"\n",
    "print(*d)\n"
   ]
  },
  {
   "cell_type": "markdown",
   "id": "3250e1e4",
   "metadata": {},
   "source": [
    "##### WAPP  convert odd indexed char to lower case"
   ]
  },
  {
   "cell_type": "code",
   "execution_count": 2,
   "id": "528dca5a",
   "metadata": {},
   "outputs": [
    {
     "name": "stdout",
     "output_type": "stream",
     "text": [
      "enterdemonslayer\n",
      " dEmOnSlAyEr\n"
     ]
    }
   ],
   "source": [
    "x=input(\"enter\")\n",
    "y=\" \"\n",
    "for z in range(len(x)):\n",
    "    if z%2!=0:\n",
    "     y=y+x[z].upper()\n",
    "    else:\n",
    "     y=y+x[z].lower()\n",
    "print(y)"
   ]
  },
  {
   "cell_type": "code",
   "execution_count": null,
   "id": "5f139baf",
   "metadata": {},
   "outputs": [],
   "source": [
    "#WAPP convert only odd indexed char to upper case"
   ]
  },
  {
   "cell_type": "code",
   "execution_count": 1,
   "id": "f35d046a",
   "metadata": {},
   "outputs": [
    {
     "name": "stdout",
     "output_type": "stream",
     "text": [
      "enterpython\n",
      " pYtHoN\n"
     ]
    }
   ],
   "source": [
    "x=input(\"enter\")\n",
    "y=\" \"\n",
    "for z in range(len(x)):\n",
    "    if z%2!=0:\n",
    "     y=y+x[z].upper()\n",
    "    else:\n",
    "     y=y+x[z].lower()\n",
    "print(y)"
   ]
  },
  {
   "cell_type": "code",
   "execution_count": null,
   "id": "e7a12b02",
   "metadata": {},
   "outputs": [],
   "source": [
    "#WAPP convert only even char indexed to upper case"
   ]
  },
  {
   "cell_type": "code",
   "execution_count": 2,
   "id": "7ddd0097",
   "metadata": {},
   "outputs": [
    {
     "name": "stdout",
     "output_type": "stream",
     "text": [
      "enterpython\n",
      " PyThOn\n"
     ]
    }
   ],
   "source": [
    "x=input(\"enter\")\n",
    "y=\" \"\n",
    "for z in range(len(x)):\n",
    "    if z%2==0:\n",
    "     y=y+x[z].upper()\n",
    "    else:\n",
    "     y=y+x[z].lower()\n",
    "print(y)\n",
    "    "
   ]
  },
  {
   "cell_type": "code",
   "execution_count": null,
   "id": "46a05b59",
   "metadata": {},
   "outputs": [],
   "source": [
    "#WAPP to print bio data containing name,age,phone.no,father name,mother name from different variable"
   ]
  },
  {
   "cell_type": "code",
   "execution_count": 4,
   "id": "90eb842d",
   "metadata": {},
   "outputs": [
    {
     "name": "stdout",
     "output_type": "stream",
     "text": [
      "my name is rangeet\n",
      "my age is 26\n",
      "my phone.no is9876543210\n",
      "my father name is arun\n",
      "my mother name is anita\n"
     ]
    }
   ],
   "source": [
    "b=[\"rangeet\",\"26\",\"9876543210\",\"arun\",\"anita\"]\n",
    "print(\"my name is {}\\nmy age is {}\\nmy phone.no is{}\\nmy father name is {}\\nmy mother name is {}\".format(b[0],b[1],b[2],b[3],b[4]))"
   ]
  },
  {
   "cell_type": "code",
   "execution_count": null,
   "id": "723040fd",
   "metadata": {},
   "outputs": [],
   "source": [
    "#WAPP count how many times @ occured"
   ]
  },
  {
   "cell_type": "code",
   "execution_count": 22,
   "id": "3f621cc5",
   "metadata": {},
   "outputs": [
    {
     "name": "stdout",
     "output_type": "stream",
     "text": [
      "num of @ - 3\n"
     ]
    }
   ],
   "source": [
    "c=\"name1.@gmail.com,name2.@gmail.com,name3.@gmail.com\"\n",
    "d=c.count(\"@\")\n",
    "print(\"num of @ -\",d)"
   ]
  },
  {
   "cell_type": "code",
   "execution_count": null,
   "id": "183acffa",
   "metadata": {},
   "outputs": [],
   "source": [
    "#WAPP get only names from a string"
   ]
  },
  {
   "cell_type": "code",
   "execution_count": 23,
   "id": "8c673762",
   "metadata": {},
   "outputs": [
    {
     "name": "stdout",
     "output_type": "stream",
     "text": [
      "name1 name2 name3\n"
     ]
    }
   ],
   "source": [
    "c=c.split(\".\")\n",
    "\n",
    "print(c[0],c[2][4:],c[4][4:])\n"
   ]
  },
  {
   "cell_type": "code",
   "execution_count": null,
   "id": "3e06cbda",
   "metadata": {},
   "outputs": [],
   "source": [
    "#give a string of odd length greater than 9,return a new string made of middle 3 characters of a given string"
   ]
  },
  {
   "cell_type": "code",
   "execution_count": 45,
   "id": "3695f366",
   "metadata": {},
   "outputs": [
    {
     "name": "stdout",
     "output_type": "stream",
     "text": [
      "9chars nineCHARS\n",
      "eCH\n"
     ]
    }
   ],
   "source": [
    "x=input(\"9chars \")\n",
    "m = len(x)/2\n",
    "m=int(m)\n",
    "n=(x[m-1],x[m],x[m+1])\n",
    "print(\"\".join(n))"
   ]
  },
  {
   "cell_type": "code",
   "execution_count": null,
   "id": "8db5d222",
   "metadata": {},
   "outputs": [],
   "source": [
    "#WAPP insert 2 string in the middle of 1 string"
   ]
  },
  {
   "cell_type": "code",
   "execution_count": 51,
   "id": "032e3201",
   "metadata": {},
   "outputs": [
    {
     "name": "stdout",
     "output_type": "stream",
     "text": [
      "inputmmmmm\n",
      "inputooo\n",
      "mmooommm\n"
     ]
    }
   ],
   "source": [
    "p=input(\"input\")\n",
    "q=input(\"input\")\n",
    "r=int(len(p)/2)\n",
    "s=(p[0:r],q,p[r:])\n",
    "print(\"\".join(s))"
   ]
  },
  {
   "cell_type": "code",
   "execution_count": null,
   "id": "fbca53a5",
   "metadata": {},
   "outputs": [],
   "source": [
    "#WAPP remove vowels from alphabets"
   ]
  },
  {
   "cell_type": "code",
   "execution_count": 27,
   "id": "94596fbf",
   "metadata": {},
   "outputs": [
    {
     "name": "stdout",
     "output_type": "stream",
     "text": [
      "After removing Vowels: bcdfghjklmnpqrstvwxyz\n"
     ]
    }
   ],
   "source": [
    "s=\"abcdefghijklmnopqrstuvwxyz\"\n",
    "v=['a','e','i','o','u']\n",
    "r=\"\"\n",
    "for i in range(26):\n",
    "    if s[i] not in v:\n",
    "        r=r+s[i]\n",
    "print(\"After removing Vowels:\",r)"
   ]
  },
  {
   "cell_type": "code",
   "execution_count": null,
   "id": "b1783449",
   "metadata": {},
   "outputs": [],
   "source": []
  }
 ],
 "metadata": {
  "kernelspec": {
   "display_name": "Python 3 (ipykernel)",
   "language": "python",
   "name": "python3"
  },
  "language_info": {
   "codemirror_mode": {
    "name": "ipython",
    "version": 3
   },
   "file_extension": ".py",
   "mimetype": "text/x-python",
   "name": "python",
   "nbconvert_exporter": "python",
   "pygments_lexer": "ipython3",
   "version": "3.9.13"
  }
 },
 "nbformat": 4,
 "nbformat_minor": 5
}
