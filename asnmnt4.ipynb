{
 "cells": [
  {
   "cell_type": "code",
   "execution_count": null,
   "id": "5cb233f0",
   "metadata": {},
   "outputs": [],
   "source": [
    "#Given a list of numbers, write a python program that returns a new list which Has all \n",
    "#duplicate elements removed. And is sorted in an increasing order."
   ]
  },
  {
   "cell_type": "code",
   "execution_count": 12,
   "id": "b0cbb879",
   "metadata": {},
   "outputs": [
    {
     "name": "stdout",
     "output_type": "stream",
     "text": [
      "enter nums6\n",
      "enter nums5\n",
      "enter nums5\n",
      "enter nums4\n",
      "enter nums7\n",
      "enter nums8\n",
      "enter nums9\n",
      "enter nums0\n",
      "enter nums3\n",
      "enter nums3\n"
     ]
    },
    {
     "data": {
      "text/plain": [
       "{0, 3, 4, 5, 6, 7, 8, 9}"
      ]
     },
     "execution_count": 12,
     "metadata": {},
     "output_type": "execute_result"
    }
   ],
   "source": [
    "y=[]\n",
    "z=1\n",
    "while z<11:\n",
    "    x=int(input(\"enter nums\"))\n",
    "    y.append(x)\n",
    "    z+=1\n",
    "y.sort()\n",
    "set(y)"
   ]
  },
  {
   "cell_type": "code",
   "execution_count": null,
   "id": "2e0ab373",
   "metadata": {},
   "outputs": [],
   "source": [
    "#Write a Python program where you will iterate over both keys and values in \n",
    "#dictionaries\n"
   ]
  },
  {
   "cell_type": "code",
   "execution_count": 5,
   "id": "13c2ce90",
   "metadata": {},
   "outputs": [
    {
     "name": "stdout",
     "output_type": "stream",
     "text": [
      "Enter keys-jeans\n",
      "Enter value-blue\n",
      "Type N to stop else type anything-y\n",
      "Enter keys-jacket\n",
      "Enter value-red\n",
      "Type N to stop else type anything-n\n",
      "your dict is {'shoe': 'black', 'shirt': 'white', 'jeans': 'blue', 'jacket': 'red'}\n"
     ]
    }
   ],
   "source": [
    "a=True\n",
    "dic={'shoe':'black','shirt':'white'}\n",
    "while a:\n",
    "    k=input(\"Enter keys-\")\n",
    "    v=input(\"Enter value-\")\n",
    "    q=input(\"Type N to stop else type anything-\")\n",
    "    dic.update({k:v})\n",
    "    if q==\"N\" or q==\"n\":\n",
    "        break\n",
    "print(\"your dict is {}\".format(dic))"
   ]
  },
  {
   "cell_type": "code",
   "execution_count": null,
   "id": "3efe9c46",
   "metadata": {},
   "outputs": [],
   "source": [
    "#write a Python program that takes a dictionary of student names and returns a list of \n",
    "#student names in alphabetical order"
   ]
  },
  {
   "cell_type": "code",
   "execution_count": 27,
   "id": "8e7aef6a",
   "metadata": {
    "scrolled": true
   },
   "outputs": [
    {
     "name": "stdout",
     "output_type": "stream",
     "text": [
      "enter nos3\n",
      "Type student no. : 1\n",
      "Enter the name :r\n",
      "Type student no. : 2\n",
      "Enter the name :a\n",
      "Type student no. : 3\n",
      "Enter the name :z\n",
      "{'1': 'r', '2': 'a', '3': 'z'}\n",
      "List of alphabatically sorted names  ['a', 'r', 'z']\n"
     ]
    }
   ],
   "source": [
    "students = {}\n",
    "names = []\n",
    "nos = int(input(\"enter nos\"))\n",
    "for i in range(0,nos):\n",
    "    key = input(\"Type student no. : \")\n",
    "    value = input(\"Enter the name :\")\n",
    "    students.update({key:value})\n",
    "    names.append(students[key])\n",
    "    names.sort()\n",
    "print(students)\n",
    "print(\"List of alphabatically sorted names \",names)"
   ]
  },
  {
   "cell_type": "code",
   "execution_count": null,
   "id": "82fa8362",
   "metadata": {},
   "outputs": [],
   "source": []
  },
  {
   "cell_type": "code",
   "execution_count": null,
   "id": "d15af6a2",
   "metadata": {},
   "outputs": [],
   "source": []
  },
  {
   "cell_type": "code",
   "execution_count": null,
   "id": "3dcc8cee",
   "metadata": {},
   "outputs": [],
   "source": [
    "#Write a Python which returns a new list of Booleans, from a given number. Iterating \n",
    "#through the number one digit at a time, append True if the digit is 1 and False if it is 0"
   ]
  },
  {
   "cell_type": "code",
   "execution_count": 4,
   "id": "41d468dd",
   "metadata": {},
   "outputs": [
    {
     "name": "stdout",
     "output_type": "stream",
     "text": [
      "enter 1 0r 01\n",
      "enter 1 0r 01\n",
      "enter 1 0r 01\n",
      "enter 1 0r 00\n",
      "enter 1 0r 00\n",
      "enter 1 0r 00\n",
      "enter 1 0r 01\n",
      "enter 1 0r 00\n",
      "enter 1 0r 01\n",
      "enter 1 0r 00\n"
     ]
    },
    {
     "data": {
      "text/plain": [
       "[False, False, False, True, True, True, False, True, False, True]"
      ]
     },
     "execution_count": 4,
     "metadata": {},
     "output_type": "execute_result"
    }
   ],
   "source": [
    "y=[]\n",
    "z=1\n",
    "while z<11:\n",
    "    x=int(input(\"enter 1 0r 0\"))\n",
    "    y.append(x)\n",
    "    z+=1\n",
    "list(map(lambda x:x==0,y))"
   ]
  },
  {
   "cell_type": "code",
   "execution_count": null,
   "id": "bee13103",
   "metadata": {},
   "outputs": [],
   "source": [
    "#Write a Python program where you will return a dictionary where the keys will be the character and the values will be\n",
    "#the occurrence of the character in the string, and it should for any string inputs (dynamic)\n",
    "#Ex:\n",
    "#Input: “my name is ame”\n",
    "#Output: {“m”:3,” y”:1,” n”:1,” a”:2,” e”:2,” i”:1,” s”:1}"
   ]
  },
  {
   "cell_type": "code",
   "execution_count": 24,
   "id": "1fae434c",
   "metadata": {},
   "outputs": [
    {
     "name": "stdout",
     "output_type": "stream",
     "text": [
      "Please enter any string here :     yutt\n",
      "{'y': 1, 'u': 1, 't': 2}\n"
     ]
    }
   ],
   "source": [
    "string=input(\"Please enter any string here : \")\n",
    "new=[]\n",
    "dic={}\n",
    "for i in string:\n",
    "    if i==\" \":\n",
    "        continue\n",
    "    new.append(i)\n",
    "        \n",
    "for j in new:\n",
    "    dic.update({j:new.count(j)})\n",
    "print(dic)\n"
   ]
  },
  {
   "cell_type": "code",
   "execution_count": null,
   "id": "6ac6a8f2",
   "metadata": {},
   "outputs": [],
   "source": [
    "#Given a dictionary containing the names and ages of a group of people, return the name of the oldest person"
   ]
  },
  {
   "cell_type": "code",
   "execution_count": 49,
   "id": "ef119927",
   "metadata": {},
   "outputs": [
    {
     "name": "stdout",
     "output_type": "stream",
     "text": [
      "Name : rng8\n",
      "Age : 26\n",
      "Type N or n to stop_y\n",
      "Name : teegnar\n",
      "Age : 25\n",
      "Type N or n to stop_n\n",
      "{'rng8': 26, 'teegnar': 25}\n",
      "\n",
      "The oldest person is --> rng8\n"
     ]
    }
   ],
   "source": [
    "dic={}\n",
    "while True:\n",
    "    name=input(\"Name : \")\n",
    "    age=int(input(\"Age : \"))\n",
    "    dic.update({name:age})\n",
    "    ask=input(\"Type N or n to stop_\")\n",
    "    if ask==\"N\" or ask==\"n\":\n",
    "        break\n",
    "elder=max(dic.values())\n",
    "names=list(dic.keys())\n",
    "ages=list(dic.values())\n",
    "print(dic)\n",
    "print(\"\\nThe oldest person is --> {}\".format(names[ages.index(elder)]))"
   ]
  },
  {
   "cell_type": "code",
   "execution_count": null,
   "id": "ed2de0d2",
   "metadata": {},
   "outputs": [],
   "source": [
    "#Write a Python program to create a Rock, Paper, Scissor game, use two inputs for two players:\n"
   ]
  },
  {
   "cell_type": "code",
   "execution_count": 2,
   "id": "197d464a",
   "metadata": {},
   "outputs": [
    {
     "name": "stdout",
     "output_type": "stream",
     "text": [
      "rounds?3\n",
      "Enter Rock, Paper, or Scissors : Rock\n",
      "You win, Rock beats Scissors\n",
      "Enter Rock, Paper, or Scissors : Paper\n",
      "You win, Paper beats Rock\n",
      "Enter Rock, Paper, or Scissors : Rock\n",
      "You have lost, Paper covers Rock\n"
     ]
    }
   ],
   "source": [
    "import random\n",
    "rounds = int(input(\"rounds?\"))\n",
    "for _ in range(rounds):\n",
    "    RPS = (\"Rock\", \"Paper\", \"Scissors\")\n",
    "    computer = random.choice(RPS)\n",
    "    Player = input(\"Enter Rock, Paper, or Scissors : \")\n",
    "    if Player == computer:\n",
    "        print(\"It is a tie\")\n",
    "    elif Player == \"Rock\":\n",
    "        if computer == \"Paper\":\n",
    "            print(\"You have lost,\", computer, \"covers\", Player)\n",
    "        else:\n",
    "            print(\"You win,\", Player, \"beats\", computer)\n",
    "    elif Player == \"Scissors\":\n",
    "        if computer == \"Rock\":\n",
    "            print(\"You have lost,\", computer, \"breaks\", Player)\n",
    "        else:\n",
    "            print(\"You win,\", Player, \"beats\", computer)\n",
    "    elif Player == \"Paper\":\n",
    "        if computer == \"Scissors\":\n",
    "            print(\"You have lost,\", computer, \"cuts\", Player)\n",
    "        else:\n",
    "            print(\"You win,\", Player, \"beats\", computer)\n",
    "    else:\n",
    "        print(\"That is a invalid entry\")"
   ]
  },
  {
   "cell_type": "code",
   "execution_count": 85,
   "id": "6b7a22a4",
   "metadata": {},
   "outputs": [],
   "source": [
    "#Create a program that returns a list of items that you can afford in the store with the \n",
    "#money you have in your wallet. Create a dictionary with items as key and price as \n",
    "#values"
   ]
  },
  {
   "cell_type": "code",
   "execution_count": 53,
   "id": "3c1a6ecb",
   "metadata": {},
   "outputs": [
    {
     "name": "stdout",
     "output_type": "stream",
     "text": [
      "Please enter your wallet amount_600\n",
      "['deodrant', 't-shirt', 'watch']\n"
     ]
    }
   ],
   "source": [
    "store={\"deodrant\":150,\"t-shirt\":500,\"pant\":1000,\"jeans\":850,\"watch\":350,\"jacket\":1500}\n",
    "item=list(store.keys())\n",
    "price=list(store.values())\n",
    "zipped=list(zip(item,price))\n",
    "wallet=int(input(\"Please enter your wallet amount_\"))\n",
    "cart=[]\n",
    "afford=[]\n",
    "for i in price:                 \n",
    "    if i<=wallet:\n",
    "        cart.append(i)\n",
    "for j,k in zipped:\n",
    "    if k in cart:\n",
    "        afford.append(j)\n",
    "print(afford)\n"
   ]
  },
  {
   "cell_type": "code",
   "execution_count": null,
   "id": "2847ff8c",
   "metadata": {},
   "outputs": [],
   "source": [
    "#Write a Python program to create a union of sets"
   ]
  },
  {
   "cell_type": "code",
   "execution_count": 76,
   "id": "2cb7b18f",
   "metadata": {},
   "outputs": [
    {
     "name": "stdout",
     "output_type": "stream",
     "text": [
      "{'diarymilk', 'eclares', 'kitkat', 'pulse', 'munch', 'melody'}\n"
     ]
    }
   ],
   "source": [
    "chocolates = {'munch','kitkat','diarymilk'}\n",
    "candy = {'melody','pulse','eclares'}\n",
    "sweets = chocolates.union(candy)\n",
    "print(sweets)"
   ]
  },
  {
   "cell_type": "code",
   "execution_count": null,
   "id": "e980ecde",
   "metadata": {},
   "outputs": [],
   "source": [
    "#Write a Python program to check if a given value is present in a set or no"
   ]
  },
  {
   "cell_type": "code",
   "execution_count": 77,
   "id": "bc854124",
   "metadata": {},
   "outputs": [
    {
     "name": "stdout",
     "output_type": "stream",
     "text": [
      "type_lysergic acid\n",
      "out of stock\n"
     ]
    }
   ],
   "source": [
    "set1={\"aderall\",\"xanax\",\"oxycotin\",\"thc\",\"vicodin\",\"ketamine\"}\n",
    "y=input(\"type_\")\n",
    "for x in set1:\n",
    "    if x==y:\n",
    "        print(\"it is present!\")\n",
    "        break\n",
    "else:\n",
    "    print(\"out of stock\")\n",
    "        \n"
   ]
  },
  {
   "cell_type": "code",
   "execution_count": null,
   "id": "82a989f6",
   "metadata": {},
   "outputs": [],
   "source": [
    " #Write a Python program to find the occurrences of 3 most common words in a given text. And make it as a dictionaries"
   ]
  },
  {
   "cell_type": "code",
   "execution_count": 80,
   "id": "5ba46944",
   "metadata": {},
   "outputs": [
    {
     "name": "stdout",
     "output_type": "stream",
     "text": [
      "enter text_Countess Elizabeth Báthory de Ecsed was a Hungarian noblewoman and alleged serial killer from the family of Báthory, who owned land in the Kingdom of Hungary. Báthory and four of her servants were accused of torturing and killing hundreds of girls and women between 1590 and 1610.\n",
      "[('and', 5), ('of', 5), ('Báthory', 3)]\n"
     ]
    }
   ],
   "source": [
    "from collections import Counter\n",
    "import re\n",
    "text=input(\"enter text_\")\n",
    "words = re.findall('\\w+',text)\n",
    "print(Counter(words).most_common(3))"
   ]
  },
  {
   "cell_type": "code",
   "execution_count": null,
   "id": "363fd1e1",
   "metadata": {},
   "outputs": [],
   "source": []
  },
  {
   "cell_type": "code",
   "execution_count": null,
   "id": "4d3556f8",
   "metadata": {},
   "outputs": [],
   "source": [
    "#Write a Python program that accepts name of given subject and mark, and make subjects as keys in dictionaries and \n",
    "#marks as values and print the final dictionary with subjects and marks"
   ]
  },
  {
   "cell_type": "code",
   "execution_count": 73,
   "id": "f563b82a",
   "metadata": {},
   "outputs": [
    {
     "name": "stdout",
     "output_type": "stream",
     "text": [
      "Enter No of sub:2\n",
      "sub_sci\n",
      "Marks_50\n",
      "sub_maths\n",
      "Marks_60\n"
     ]
    },
    {
     "data": {
      "text/plain": [
       "{'sci': 50, 'maths': 60}"
      ]
     },
     "execution_count": 73,
     "metadata": {},
     "output_type": "execute_result"
    }
   ],
   "source": [
    "markSheet = {}\n",
    "n = int(input(\"Enter No of sub:\"))\n",
    "for i in range(n):\n",
    "\n",
    "   sub = input(\"sub_\")\n",
    "   \n",
    "   marks = int(input(\"Marks_\"))\n",
    "   \n",
    "   markSheet.update({sub:marks})\n",
    "\n",
    "markSheet"
   ]
  },
  {
   "cell_type": "code",
   "execution_count": null,
   "id": "0e04442b",
   "metadata": {},
   "outputs": [],
   "source": []
  }
 ],
 "metadata": {
  "kernelspec": {
   "display_name": "Python 3 (ipykernel)",
   "language": "python",
   "name": "python3"
  },
  "language_info": {
   "codemirror_mode": {
    "name": "ipython",
    "version": 3
   },
   "file_extension": ".py",
   "mimetype": "text/x-python",
   "name": "python",
   "nbconvert_exporter": "python",
   "pygments_lexer": "ipython3",
   "version": "3.9.13"
  }
 },
 "nbformat": 4,
 "nbformat_minor": 5
}
