{
 "cells": [
  {
   "cell_type": "code",
   "execution_count": 31,
   "id": "32dcc70c",
   "metadata": {},
   "outputs": [
    {
     "name": "stdout",
     "output_type": "stream",
     "text": [
      "****** \n",
      "      *\n",
      " ******\n",
      "*     *\n",
      " ***** *\n"
     ]
    }
   ],
   "source": [
    "a=1\n",
    "for a in range(6):\n",
    "     if a==1:\n",
    "         print(\"****** \")\n",
    "     elif a==2:\n",
    "         print(\"      *\")\n",
    "     elif a==3:\n",
    "         print(\" ******\")\n",
    "     elif a==4:\n",
    "         print(\"*     *\")\n",
    "     elif a==5:\n",
    "         print(\" ***** *\")\n",
    "         a=a+1"
   ]
  },
  {
   "cell_type": "code",
   "execution_count": 34,
   "id": "60d68ec4",
   "metadata": {},
   "outputs": [
    {
     "name": "stdout",
     "output_type": "stream",
     "text": [
      "*     \n",
      "*     \n",
      "***** \n",
      "*    *\n",
      "*****\n"
     ]
    }
   ],
   "source": [
    "a=1\n",
    "for a in range(6):\n",
    "    if a==1:\n",
    "     print(\"*     \")\n",
    "    elif a==2:\n",
    "     print(\"*     \")\n",
    "    elif a==3:\n",
    "     print(\"***** \")\n",
    "    elif a==4:\n",
    "     print(\"*    *\")\n",
    "    elif a==5:\n",
    "     print(\"*****\")\n",
    "    a=a+1"
   ]
  },
  {
   "cell_type": "code",
   "execution_count": 35,
   "id": "6a18517a",
   "metadata": {},
   "outputs": [
    {
     "name": "stdout",
     "output_type": "stream",
     "text": [
      "     \n",
      " ****\n",
      "*    \n",
      "*    \n",
      " ****\n"
     ]
    }
   ],
   "source": [
    "a=1\n",
    "for a in range(6):\n",
    "    if a==1:\n",
    "     print(\"     \")\n",
    "    elif a==2:\n",
    "     print(\" ****\")\n",
    "    elif a==3:\n",
    "     print(\"*    \")\n",
    "    elif a==4:\n",
    "     print(\"*    \")\n",
    "    elif a==5:\n",
    "     print(\" ****\")\n",
    "    a=a+1"
   ]
  },
  {
   "cell_type": "code",
   "execution_count": 36,
   "id": "9c40b93d",
   "metadata": {},
   "outputs": [
    {
     "name": "stdout",
     "output_type": "stream",
     "text": [
      "    *\n",
      "    *\n",
      " ****\n",
      "*   *\n",
      " ****\n"
     ]
    }
   ],
   "source": [
    "a=1\n",
    "for a in range(6):\n",
    "    if a==1:\n",
    "     print(\"    *\")\n",
    "    elif a==2:\n",
    "     print(\"    *\")\n",
    "    elif a==3:\n",
    "     print(\" ****\")\n",
    "    elif a==4:\n",
    "     print(\"*   *\")\n",
    "    elif a==5:\n",
    "     print(\" ****\")\n",
    "    a=a+1"
   ]
  },
  {
   "cell_type": "code",
   "execution_count": 37,
   "id": "0264d2bb",
   "metadata": {},
   "outputs": [
    {
     "name": "stdout",
     "output_type": "stream",
     "text": [
      "     \n",
      " **** \n",
      "******\n",
      "*   \n",
      " ****\n"
     ]
    }
   ],
   "source": [
    "a=1\n",
    "for a in range(6):\n",
    "    if a==1:\n",
    "     print(\"     \")\n",
    "    elif a==2:\n",
    "     print(\" **** \")\n",
    "    elif a==3:\n",
    "     print(\"******\")\n",
    "    elif a==4:\n",
    "     print(\"*   \")\n",
    "    elif a==5:\n",
    "     print(\" ****\")\n",
    "    a=a+1"
   ]
  },
  {
   "cell_type": "code",
   "execution_count": 38,
   "id": "af0ef997",
   "metadata": {},
   "outputs": [
    {
     "name": "stdout",
     "output_type": "stream",
     "text": [
      "  ***\n",
      "  *  \n",
      " *** \n",
      "  *  \n",
      "  *  \n"
     ]
    }
   ],
   "source": [
    "a=1\n",
    "for a in range(6):\n",
    "    if a==1:\n",
    "     print(\"  ***\")\n",
    "    elif a==2:\n",
    "     print(\"  *  \")\n",
    "    elif a==3:\n",
    "     print(\" *** \")\n",
    "    elif a==4:\n",
    "     print(\"  *  \")\n",
    "    elif a==5:\n",
    "     print(\"  *  \")\n",
    "    a=a+1"
   ]
  },
  {
   "cell_type": "code",
   "execution_count": 41,
   "id": "9d20d07e",
   "metadata": {},
   "outputs": [
    {
     "name": "stdout",
     "output_type": "stream",
     "text": [
      " *** \n",
      "*****\n",
      "    *\n",
      "*   *\n",
      " *** \n"
     ]
    }
   ],
   "source": [
    "a=1\n",
    "for a in range(6):\n",
    "    if a==1:\n",
    "     print(\" *** \")\n",
    "    elif a==2:\n",
    "     print(\"*****\")\n",
    "    elif a==3:\n",
    "     print(\"    *\")\n",
    "    elif a==4:\n",
    "     print(\"*   *\")\n",
    "    elif a==5:\n",
    "     print(\" *** \")\n",
    "    a=a+1"
   ]
  },
  {
   "cell_type": "code",
   "execution_count": 42,
   "id": "db0bd07b",
   "metadata": {},
   "outputs": [
    {
     "name": "stdout",
     "output_type": "stream",
     "text": [
      "*    \n",
      "*    \n",
      "*** \n",
      "*  *\n",
      "*  *\n"
     ]
    }
   ],
   "source": [
    "a=1\n",
    "for a in range(6):\n",
    "    if a==1:\n",
    "     print(\"*    \")\n",
    "    elif a==2:\n",
    "     print(\"*    \")\n",
    "    elif a==3:\n",
    "     print(\"*** \")\n",
    "    elif a==4:\n",
    "     print(\"*  *\")\n",
    "    elif a==5:\n",
    "     print(\"*  *\")\n",
    "    a=a+1"
   ]
  },
  {
   "cell_type": "code",
   "execution_count": 43,
   "id": "53d818ec",
   "metadata": {},
   "outputs": [
    {
     "name": "stdout",
     "output_type": "stream",
     "text": [
      "*\n",
      " \n",
      "*\n",
      "*\n",
      "*\n"
     ]
    }
   ],
   "source": [
    "a=1\n",
    "for a in range(6):\n",
    "    if a==1:\n",
    "     print(\"*\")\n",
    "    elif a==2:\n",
    "     print(\" \")\n",
    "    elif a==3:\n",
    "     print(\"*\")\n",
    "    elif a==4:\n",
    "     print(\"*\")\n",
    "    elif a==5:\n",
    "     print(\"*\")\n",
    "    a=a+1"
   ]
  },
  {
   "cell_type": "code",
   "execution_count": 46,
   "id": "5022fc5c",
   "metadata": {},
   "outputs": [
    {
     "name": "stdout",
     "output_type": "stream",
     "text": [
      "  * \n",
      "\n",
      "  *\n",
      "  *\n",
      "** \n"
     ]
    }
   ],
   "source": [
    "a=1\n",
    "for a in range(6):\n",
    "    if a==1:\n",
    "     print(\"  * \")\n",
    "    elif a==2:\n",
    "     print(\"\")\n",
    "    elif a==3:\n",
    "     print(\"  *\")\n",
    "    elif a==4:\n",
    "     print(\"  *\")\n",
    "    elif a==5:\n",
    "     print(\"** \")\n",
    "    a=a+1"
   ]
  },
  {
   "cell_type": "code",
   "execution_count": 48,
   "id": "71b74175",
   "metadata": {},
   "outputs": [
    {
     "name": "stdout",
     "output_type": "stream",
     "text": [
      "*\n",
      "*\n",
      "*    *\n",
      "*  *\n",
      "*\n",
      "*  *\n",
      "*    *\n"
     ]
    }
   ],
   "source": [
    "a=1\n",
    "for a in range(8):\n",
    "    if a==1:\n",
    "     print(\"*\")\n",
    "    elif a==2:\n",
    "     print(\"*\")\n",
    "    elif a==3:\n",
    "     print(\"*    *\")\n",
    "    elif a==4:\n",
    "     print(\"*  *\")\n",
    "    elif a==5:\n",
    "     print(\"*\")\n",
    "    elif a==6:\n",
    "     print(\"*  *\")\n",
    "    elif a==7:\n",
    "     print(\"*    *\")\n",
    "    a=a+1"
   ]
  },
  {
   "cell_type": "code",
   "execution_count": 49,
   "id": "bf57b805",
   "metadata": {},
   "outputs": [
    {
     "name": "stdout",
     "output_type": "stream",
     "text": [
      "*\n",
      "*\n",
      "*\n",
      "*\n",
      "*\n"
     ]
    }
   ],
   "source": [
    "a=1\n",
    "for a in range(6):\n",
    "    if a==1:\n",
    "     print(\"*\")\n",
    "    elif a==2:\n",
    "     print(\"*\")\n",
    "    elif a==3:\n",
    "     print(\"*\")\n",
    "    elif a==4:\n",
    "     print(\"*\")\n",
    "    elif a==5:\n",
    "     print(\"*\")\n",
    "    a=a+1"
   ]
  },
  {
   "cell_type": "code",
   "execution_count": 50,
   "id": "9b055030",
   "metadata": {},
   "outputs": [
    {
     "name": "stdout",
     "output_type": "stream",
     "text": [
      "* *** ***\n",
      " *   *   *\n",
      " *   *   *\n",
      " *   *   *\n"
     ]
    }
   ],
   "source": [
    "a=1\n",
    "for a in range(6):\n",
    "    if a==1:\n",
    "     print(\"* *** ***\")\n",
    "    elif a==2:\n",
    "     print(\" *   *   *\")\n",
    "    elif a==3:\n",
    "     print(\" *   *   *\")\n",
    "    elif a==4:\n",
    "     print(\" *   *   *\")\n",
    "    a=a+1"
   ]
  },
  {
   "cell_type": "code",
   "execution_count": 51,
   "id": "3de8bdb7",
   "metadata": {},
   "outputs": [
    {
     "name": "stdout",
     "output_type": "stream",
     "text": [
      "\n",
      "* **\n",
      " *  *\n",
      " *  *\n",
      " *  *\n"
     ]
    }
   ],
   "source": [
    "a=1\n",
    "for a in range(6):\n",
    "    if a==1:\n",
    "     print(\"\")\n",
    "    elif a==2:\n",
    "     print(\"* **\")\n",
    "    elif a==3:\n",
    "     print(\" *  *\")\n",
    "    elif a==4:\n",
    "     print(\" *  *\")\n",
    "    elif a==5:\n",
    "     print(\" *  *\")\n",
    "    a=a+1"
   ]
  },
  {
   "cell_type": "code",
   "execution_count": 52,
   "id": "b37d9a0d",
   "metadata": {},
   "outputs": [
    {
     "name": "stdout",
     "output_type": "stream",
     "text": [
      "\n",
      " ***\n",
      "*   *\n",
      "*   *\n",
      " ***\n"
     ]
    }
   ],
   "source": [
    "a=1\n",
    "for a in range(6):\n",
    "    if a==1:\n",
    "     print(\"\")\n",
    "    elif a==2:\n",
    "     print(\" ***\" )\n",
    "    elif a==3:\n",
    "     print(\"*   *\")\n",
    "    elif a==4:\n",
    "     print(\"*   *\")\n",
    "    elif a==5:\n",
    "     print(\" ***\")\n",
    "    a=a+1"
   ]
  },
  {
   "cell_type": "code",
   "execution_count": 53,
   "id": "972ec77e",
   "metadata": {},
   "outputs": [
    {
     "name": "stdout",
     "output_type": "stream",
     "text": [
      "\n",
      "***\n",
      "*  *\n",
      "***\n",
      "*\n"
     ]
    }
   ],
   "source": [
    "a=1\n",
    "for a in range(6):\n",
    "    if a==1:\n",
    "     print(\"\")\n",
    "    elif a==2:\n",
    "     print(\"***\")\n",
    "    elif a==3:\n",
    "     print(\"*  *\")\n",
    "    elif a==4:\n",
    "     print(\"***\")\n",
    "    elif a==5:\n",
    "     print(\"*\")\n",
    "    a=a+1"
   ]
  },
  {
   "cell_type": "code",
   "execution_count": 54,
   "id": "821c62a8",
   "metadata": {},
   "outputs": [
    {
     "name": "stdout",
     "output_type": "stream",
     "text": [
      " ****\n",
      "*   *\n",
      " ****\n",
      "    *\n",
      "    *\n"
     ]
    }
   ],
   "source": [
    "a=1\n",
    "for a in range(6):\n",
    "    if a==1:\n",
    "     print(\" ****\")\n",
    "    elif a==2:\n",
    "     print(\"*   *\")\n",
    "    elif a==3:\n",
    "     print(\" ****\")\n",
    "    elif a==4:\n",
    "     print(\"    *\")\n",
    "    elif a==5:\n",
    "     print(\"    *\")\n",
    "    a=a+1"
   ]
  },
  {
   "cell_type": "code",
   "execution_count": 55,
   "id": "59bd8257",
   "metadata": {},
   "outputs": [
    {
     "name": "stdout",
     "output_type": "stream",
     "text": [
      "* ***\n",
      " *  **\n",
      " *\n",
      " *\n"
     ]
    }
   ],
   "source": [
    "a=1\n",
    "for a in range(6):\n",
    "    if a==1:\n",
    "     print(\"* ***\")\n",
    "    elif a==2:\n",
    "     print(\" *  **\")\n",
    "    elif a==3:\n",
    "     print(\" *\")\n",
    "    elif a==4:\n",
    "     print(\" *\")\n",
    "    a=a+1"
   ]
  },
  {
   "cell_type": "code",
   "execution_count": 56,
   "id": "2e9d548b",
   "metadata": {},
   "outputs": [
    {
     "name": "stdout",
     "output_type": "stream",
     "text": [
      " *** \n",
      "*\n",
      " ***\n",
      "    *\n",
      " ***\n"
     ]
    }
   ],
   "source": [
    "a=1\n",
    "for a in range(6):\n",
    "    if a==1:\n",
    "     print(\" *** \")\n",
    "    elif a==2:\n",
    "     print(\"*\")\n",
    "    elif a==3:\n",
    "     print(\" ***\")\n",
    "    elif a==4:\n",
    "     print(\"    *\")\n",
    "    elif a==5:\n",
    "     print(\" ***\")\n",
    "    a=a+1"
   ]
  },
  {
   "cell_type": "code",
   "execution_count": 57,
   "id": "0a7dd2f4",
   "metadata": {},
   "outputs": [
    {
     "name": "stdout",
     "output_type": "stream",
     "text": [
      " *\n",
      " *\n",
      "***\n",
      " *\n",
      "  **\n"
     ]
    }
   ],
   "source": [
    "a=1\n",
    "for a in range(6):\n",
    "    if a==1:\n",
    "     print(\" *\")\n",
    "    elif a==2:\n",
    "     print(\" *\")\n",
    "    elif a==3:\n",
    "     print(\"***\")\n",
    "    elif a==4:\n",
    "     print(\" *\")\n",
    "    elif a==5:\n",
    "     print(\"  **\") \n",
    "    a=a+1"
   ]
  },
  {
   "cell_type": "code",
   "execution_count": 58,
   "id": "64516e32",
   "metadata": {},
   "outputs": [
    {
     "name": "stdout",
     "output_type": "stream",
     "text": [
      "\n",
      "*  *\n",
      "*  *\n",
      "*  *\n",
      " ** *\n"
     ]
    }
   ],
   "source": [
    "a=1\n",
    "for a in range(6):\n",
    "    if a==1:\n",
    "     print(\"\")\n",
    "    elif a==2:\n",
    "     print(\"*  *\")\n",
    "    elif a==3:\n",
    "     print(\"*  *\")\n",
    "    elif a==4:\n",
    "     print(\"*  *\")\n",
    "    elif a==5:\n",
    "     print(\" ** *\")\n",
    "    a=a+1"
   ]
  },
  {
   "cell_type": "code",
   "execution_count": 59,
   "id": "bc3e9514",
   "metadata": {},
   "outputs": [
    {
     "name": "stdout",
     "output_type": "stream",
     "text": [
      "\n",
      "*     *\n",
      " *   *\n",
      "  * *\n",
      "   *\n"
     ]
    }
   ],
   "source": [
    "a=1\n",
    "for a in range(6):\n",
    "    if a==1:\n",
    "     print(\"\")\n",
    "    elif a==2:\n",
    "     print(\"*     *\")\n",
    "    elif a==3:\n",
    "     print(\" *   *\")\n",
    "    elif a==4:\n",
    "     print(\"  * *\")\n",
    "    elif a==5:\n",
    "     print(\"   *\")\n",
    "    a=a+1"
   ]
  },
  {
   "cell_type": "code",
   "execution_count": 60,
   "id": "90b5be5f",
   "metadata": {},
   "outputs": [
    {
     "name": "stdout",
     "output_type": "stream",
     "text": [
      "*  *  *\n",
      "*  *  *\n",
      "*  *  *\n",
      " *  *  *\n"
     ]
    }
   ],
   "source": [
    "a=1\n",
    "for a in range(6):\n",
    "    if a==1:\n",
    "     print(\"*  *  *\")\n",
    "    elif a==2:\n",
    "     print(\"*  *  *\")\n",
    "    elif a==3:\n",
    "     print(\"*  *  *\")\n",
    "    elif a==4:\n",
    "     print(\" *  *  *\")\n",
    "    a=a+1"
   ]
  },
  {
   "cell_type": "code",
   "execution_count": 61,
   "id": "93b3c8f4",
   "metadata": {},
   "outputs": [
    {
     "name": "stdout",
     "output_type": "stream",
     "text": [
      "*     *\n",
      "  * *\n",
      "   *\n",
      " *  *\n",
      "*     *\n"
     ]
    }
   ],
   "source": [
    "a=1\n",
    "for a in range(6):\n",
    "    if a==1:\n",
    "     print(\"*     *\")\n",
    "    elif a==2:\n",
    "     print(\"  * *\")\n",
    "    elif a==3:\n",
    "     print(\"   *\")\n",
    "    elif a==4:\n",
    "     print(\" *  *\")\n",
    "    elif a==5:\n",
    "     print(\"*     *\")\n",
    "    a=a+1"
   ]
  },
  {
   "cell_type": "code",
   "execution_count": 62,
   "id": "5b84e786",
   "metadata": {},
   "outputs": [
    {
     "name": "stdout",
     "output_type": "stream",
     "text": [
      "*   *\n",
      "*   *\n",
      " ****\n",
      "    *\n",
      "****\n"
     ]
    }
   ],
   "source": [
    "a=1\n",
    "for a in range(6):\n",
    "    if a==1:\n",
    "     print(\"*   *\")\n",
    "    elif a==2:\n",
    "     print(\"*   *\")\n",
    "    elif a==3:\n",
    "     print(\" ****\")\n",
    "    elif a==4:\n",
    "     print(\"    *\")\n",
    "    elif a==5:\n",
    "     print(\"****\")\n",
    "    a=a+1"
   ]
  },
  {
   "cell_type": "code",
   "execution_count": 63,
   "id": "28cacd6b",
   "metadata": {},
   "outputs": [
    {
     "name": "stdout",
     "output_type": "stream",
     "text": [
      "****\n",
      "  *\n",
      " *\n",
      "*\n",
      "****\n"
     ]
    }
   ],
   "source": [
    "a=1\n",
    "for a in range(6):\n",
    "    if a==1:\n",
    "     print(\"****\")\n",
    "    elif a==2:\n",
    "     print(\"  *\")\n",
    "    elif a==3:\n",
    "     print(\" *\")\n",
    "    elif a==4:\n",
    "     print(\"*\")\n",
    "    elif a==5:\n",
    "     print(\"****\")\n",
    "    a=a+1"
   ]
  },
  {
   "cell_type": "code",
   "execution_count": null,
   "id": "6a0240ac",
   "metadata": {},
   "outputs": [],
   "source": []
  }
 ],
 "metadata": {
  "kernelspec": {
   "display_name": "Python 3 (ipykernel)",
   "language": "python",
   "name": "python3"
  },
  "language_info": {
   "codemirror_mode": {
    "name": "ipython",
    "version": 3
   },
   "file_extension": ".py",
   "mimetype": "text/x-python",
   "name": "python",
   "nbconvert_exporter": "python",
   "pygments_lexer": "ipython3",
   "version": "3.9.13"
  }
 },
 "nbformat": 4,
 "nbformat_minor": 5
}
