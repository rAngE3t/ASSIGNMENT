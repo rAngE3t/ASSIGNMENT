{
 "cells": [
  {
   "cell_type": "code",
   "execution_count": 2,
   "id": "1449ea2a",
   "metadata": {},
   "outputs": [
    {
     "name": "stdout",
     "output_type": "stream",
     "text": [
      "rock=1 paper=2 scissor=3\n",
      "enter 1st choice3\n",
      "enter 2nd choice3\n",
      "Game is a draw!\n"
     ]
    }
   ],
   "source": [
    "print('rock=1','paper=2','scissor=3')\n",
    "player1=input(\"enter 1st choice\")\n",
    "player2=input(\"enter 2nd choice\")\n",
    "if player1 == 1 and player2 == 2:\n",
    "    print('Paper covers rock - player1 lose!.')\n",
    "elif player1 == 1 and player2 == 3:\n",
    "    print('Rock crushes scissors - player1 win!.')    \n",
    "elif player1 == 2 and player2 == 1:\n",
    "    print('Paper covers rock - player1 win!.')\n",
    "elif player1 == 2 and player2 == 3:\n",
    "    print('Scissors cut paper - player2 win!.')\n",
    "elif player1 == 3 and player2 == 1:\n",
    "    print('Rock crushes scissors - player2 win!.') \n",
    "elif player1 == 3 and player2 == 2:\n",
    "    print('Scissors cut paper - player2 lose!.')\n",
    "else:\n",
    "    print('Game is a draw!')\n",
    "\n",
    "\n",
    "\n",
    "     \n",
    "\n"
   ]
  },
  {
   "cell_type": "code",
   "execution_count": 1,
   "id": "68bd7e09",
   "metadata": {},
   "outputs": [
    {
     "name": "stdout",
     "output_type": "stream",
     "text": [
      "40\n",
      "60\n",
      "passed\n"
     ]
    }
   ],
   "source": [
    "sci=float(input())\n",
    "maths=float(input())\n",
    "m=((sci+maths)/2)\n",
    "if m>35:\n",
    "    print(\"passed\")\n",
    "else:\n",
    "    print(\"fail\")\n",
    "    "
   ]
  },
  {
   "cell_type": "code",
   "execution_count": null,
   "id": "1277707e",
   "metadata": {},
   "outputs": [],
   "source": []
  }
 ],
 "metadata": {
  "kernelspec": {
   "display_name": "Python 3 (ipykernel)",
   "language": "python",
   "name": "python3"
  },
  "language_info": {
   "codemirror_mode": {
    "name": "ipython",
    "version": 3
   },
   "file_extension": ".py",
   "mimetype": "text/x-python",
   "name": "python",
   "nbconvert_exporter": "python",
   "pygments_lexer": "ipython3",
   "version": "3.9.13"
  }
 },
 "nbformat": 4,
 "nbformat_minor": 5
}
